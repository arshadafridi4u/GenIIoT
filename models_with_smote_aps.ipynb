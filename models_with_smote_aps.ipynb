{
  "metadata": {
    "kernelspec": {
      "language": "python",
      "display_name": "Python 3",
      "name": "python3"
    },
    "language_info": {
      "name": "python",
      "version": "3.10.12",
      "mimetype": "text/x-python",
      "codemirror_mode": {
        "name": "ipython",
        "version": 3
      },
      "pygments_lexer": "ipython3",
      "nbconvert_exporter": "python",
      "file_extension": ".py"
    },
    "kaggle": {
      "accelerator": "gpu",
      "dataSources": [
        {
          "sourceId": 3859197,
          "sourceType": "datasetVersion",
          "datasetId": 2295161
        },
        {
          "sourceId": 6230135,
          "sourceType": "datasetVersion",
          "datasetId": 3578712
        }
      ],
      "dockerImageVersionId": 30528,
      "isInternetEnabled": true,
      "language": "python",
      "sourceType": "notebook",
      "isGpuEnabled": true
    },
    "colab": {
      "provenance": []
    }
  },
  "nbformat_minor": 0,
  "nbformat": 4,
  "cells": [
    {
      "cell_type": "code",
      "source": [
        "# This Python 3 environment comes with many helpful analytics libraries installed\n",
        "# It is defined by the kaggle/python Docker image: https://github.com/kaggle/docker-python\n",
        "# For example, here's several helpful packages to load\n",
        "\n",
        "import numpy as np # linear algebra\n",
        "import pandas as pd # data processing, CSV file I/O (e.g. pd.read_csv)\n",
        "\n",
        "# Input data files are available in the read-only \"../input/\" directory\n",
        "# For example, running this (by clicking run or pressing Shift+Enter) will list all files under the input directory\n",
        "\n",
        "import os\n",
        "for dirname, _, filenames in os.walk('/kaggle/input'):\n",
        "    for filename in filenames:\n",
        "        print(os.path.join(dirname, filename))\n",
        "\n",
        "# You can write up to 20GB to the current directory (/kaggle/working/) that gets preserved as output when you create a version using \"Save & Run All\"\n",
        "# You can also write temporary files to /kaggle/temp/, but they won't be saved outside of the current session"
      ],
      "metadata": {
        "_uuid": "8f2839f25d086af736a60e9eeb907d3b93b6e0e5",
        "_cell_guid": "b1076dfc-b9ad-4769-8c92-a6c4dae69d19",
        "execution": {
          "iopub.status.busy": "2023-10-09T13:34:39.872497Z",
          "iopub.execute_input": "2023-10-09T13:34:39.873105Z",
          "iopub.status.idle": "2023-10-09T13:34:39.889515Z",
          "shell.execute_reply.started": "2023-10-09T13:34:39.873072Z",
          "shell.execute_reply": "2023-10-09T13:34:39.888510Z"
        },
        "trusted": true,
        "id": "A5POOAjxbW6i",
        "outputId": "0d8dcd24-b458-4f46-b0fb-749d9dc3b27b"
      },
      "execution_count": null,
      "outputs": [
        {
          "name": "stdout",
          "text": "/kaggle/input/generated-data/fake_data.csv\n/kaggle/input/machine-failure-prediction/ai4i2020.csv\n",
          "output_type": "stream"
        }
      ]
    },
    {
      "cell_type": "code",
      "source": [
        "import numpy as np\n",
        "import pandas as pd"
      ],
      "metadata": {
        "execution": {
          "iopub.status.busy": "2023-10-09T13:34:44.163583Z",
          "iopub.execute_input": "2023-10-09T13:34:44.164009Z",
          "iopub.status.idle": "2023-10-09T13:34:44.168588Z",
          "shell.execute_reply.started": "2023-10-09T13:34:44.163981Z",
          "shell.execute_reply": "2023-10-09T13:34:44.167636Z"
        },
        "trusted": true,
        "id": "yERaeMXbbW6q"
      },
      "execution_count": null,
      "outputs": []
    },
    {
      "cell_type": "code",
      "source": [
        "from google.colab import drive\n",
        "drive.mount('/content/drive')"
      ],
      "metadata": {
        "id": "vP3YC7jId7MT",
        "colab": {
          "base_uri": "https://localhost:8080/"
        },
        "outputId": "3dbe0588-81c8-4a91-b081-969e85939ce1"
      },
      "execution_count": null,
      "outputs": [
        {
          "output_type": "stream",
          "name": "stdout",
          "text": [
            "Mounted at /content/drive\n"
          ]
        }
      ]
    },
    {
      "cell_type": "code",
      "source": [
        "data = '/content/drive/My Drive/apsfailure.csv'\n",
        "df = pd.read_csv(data)"
      ],
      "metadata": {
        "id": "8Gz9Tbkdqr-p"
      },
      "execution_count": null,
      "outputs": []
    },
    {
      "cell_type": "code",
      "source": [
        "df.head()"
      ],
      "metadata": {
        "colab": {
          "base_uri": "https://localhost:8080/",
          "height": 255
        },
        "id": "2LkOTIPxrRB_",
        "outputId": "9be8b9f0-003d-4e58-ab7c-de7648f1e456"
      },
      "execution_count": null,
      "outputs": [
        {
          "output_type": "execute_result",
          "data": {
            "text/plain": [
              "  class  aa_000 ab_000      ac_000 ad_000 ae_000 af_000 ag_000 ag_001 ag_002  \\\n",
              "0   neg   76698     na  2130706438    280      0      0      0      0      0   \n",
              "1   neg   33058     na           0     na      0      0      0      0      0   \n",
              "2   neg   41040     na         228    100      0      0      0      0      0   \n",
              "3   neg      12      0          70     66      0     10      0      0      0   \n",
              "4   neg   60874     na        1368    458      0      0      0      0      0   \n",
              "\n",
              "   ...   ee_002  ee_003  ee_004  ee_005  ee_006  ee_007  ee_008 ee_009 ef_000  \\\n",
              "0  ...  1240520  493384  721044  469792  339156  157956   73224      0      0   \n",
              "1  ...   421400  178064  293306  245416  133654   81140   97576   1500      0   \n",
              "2  ...   277378  159812  423992  409564  320746  158022   95128    514      0   \n",
              "3  ...      240      46      58      44      10       0       0      0      4   \n",
              "4  ...   622012  229790  405298  347188  286954  311560  433954   1218      0   \n",
              "\n",
              "  eg_000  \n",
              "0      0  \n",
              "1      0  \n",
              "2      0  \n",
              "3     32  \n",
              "4      0  \n",
              "\n",
              "[5 rows x 171 columns]"
            ],
            "text/html": [
              "\n",
              "  <div id=\"df-ab14c8f6-093a-4826-af4b-6f043f0c0694\" class=\"colab-df-container\">\n",
              "    <div>\n",
              "<style scoped>\n",
              "    .dataframe tbody tr th:only-of-type {\n",
              "        vertical-align: middle;\n",
              "    }\n",
              "\n",
              "    .dataframe tbody tr th {\n",
              "        vertical-align: top;\n",
              "    }\n",
              "\n",
              "    .dataframe thead th {\n",
              "        text-align: right;\n",
              "    }\n",
              "</style>\n",
              "<table border=\"1\" class=\"dataframe\">\n",
              "  <thead>\n",
              "    <tr style=\"text-align: right;\">\n",
              "      <th></th>\n",
              "      <th>class</th>\n",
              "      <th>aa_000</th>\n",
              "      <th>ab_000</th>\n",
              "      <th>ac_000</th>\n",
              "      <th>ad_000</th>\n",
              "      <th>ae_000</th>\n",
              "      <th>af_000</th>\n",
              "      <th>ag_000</th>\n",
              "      <th>ag_001</th>\n",
              "      <th>ag_002</th>\n",
              "      <th>...</th>\n",
              "      <th>ee_002</th>\n",
              "      <th>ee_003</th>\n",
              "      <th>ee_004</th>\n",
              "      <th>ee_005</th>\n",
              "      <th>ee_006</th>\n",
              "      <th>ee_007</th>\n",
              "      <th>ee_008</th>\n",
              "      <th>ee_009</th>\n",
              "      <th>ef_000</th>\n",
              "      <th>eg_000</th>\n",
              "    </tr>\n",
              "  </thead>\n",
              "  <tbody>\n",
              "    <tr>\n",
              "      <th>0</th>\n",
              "      <td>neg</td>\n",
              "      <td>76698</td>\n",
              "      <td>na</td>\n",
              "      <td>2130706438</td>\n",
              "      <td>280</td>\n",
              "      <td>0</td>\n",
              "      <td>0</td>\n",
              "      <td>0</td>\n",
              "      <td>0</td>\n",
              "      <td>0</td>\n",
              "      <td>...</td>\n",
              "      <td>1240520</td>\n",
              "      <td>493384</td>\n",
              "      <td>721044</td>\n",
              "      <td>469792</td>\n",
              "      <td>339156</td>\n",
              "      <td>157956</td>\n",
              "      <td>73224</td>\n",
              "      <td>0</td>\n",
              "      <td>0</td>\n",
              "      <td>0</td>\n",
              "    </tr>\n",
              "    <tr>\n",
              "      <th>1</th>\n",
              "      <td>neg</td>\n",
              "      <td>33058</td>\n",
              "      <td>na</td>\n",
              "      <td>0</td>\n",
              "      <td>na</td>\n",
              "      <td>0</td>\n",
              "      <td>0</td>\n",
              "      <td>0</td>\n",
              "      <td>0</td>\n",
              "      <td>0</td>\n",
              "      <td>...</td>\n",
              "      <td>421400</td>\n",
              "      <td>178064</td>\n",
              "      <td>293306</td>\n",
              "      <td>245416</td>\n",
              "      <td>133654</td>\n",
              "      <td>81140</td>\n",
              "      <td>97576</td>\n",
              "      <td>1500</td>\n",
              "      <td>0</td>\n",
              "      <td>0</td>\n",
              "    </tr>\n",
              "    <tr>\n",
              "      <th>2</th>\n",
              "      <td>neg</td>\n",
              "      <td>41040</td>\n",
              "      <td>na</td>\n",
              "      <td>228</td>\n",
              "      <td>100</td>\n",
              "      <td>0</td>\n",
              "      <td>0</td>\n",
              "      <td>0</td>\n",
              "      <td>0</td>\n",
              "      <td>0</td>\n",
              "      <td>...</td>\n",
              "      <td>277378</td>\n",
              "      <td>159812</td>\n",
              "      <td>423992</td>\n",
              "      <td>409564</td>\n",
              "      <td>320746</td>\n",
              "      <td>158022</td>\n",
              "      <td>95128</td>\n",
              "      <td>514</td>\n",
              "      <td>0</td>\n",
              "      <td>0</td>\n",
              "    </tr>\n",
              "    <tr>\n",
              "      <th>3</th>\n",
              "      <td>neg</td>\n",
              "      <td>12</td>\n",
              "      <td>0</td>\n",
              "      <td>70</td>\n",
              "      <td>66</td>\n",
              "      <td>0</td>\n",
              "      <td>10</td>\n",
              "      <td>0</td>\n",
              "      <td>0</td>\n",
              "      <td>0</td>\n",
              "      <td>...</td>\n",
              "      <td>240</td>\n",
              "      <td>46</td>\n",
              "      <td>58</td>\n",
              "      <td>44</td>\n",
              "      <td>10</td>\n",
              "      <td>0</td>\n",
              "      <td>0</td>\n",
              "      <td>0</td>\n",
              "      <td>4</td>\n",
              "      <td>32</td>\n",
              "    </tr>\n",
              "    <tr>\n",
              "      <th>4</th>\n",
              "      <td>neg</td>\n",
              "      <td>60874</td>\n",
              "      <td>na</td>\n",
              "      <td>1368</td>\n",
              "      <td>458</td>\n",
              "      <td>0</td>\n",
              "      <td>0</td>\n",
              "      <td>0</td>\n",
              "      <td>0</td>\n",
              "      <td>0</td>\n",
              "      <td>...</td>\n",
              "      <td>622012</td>\n",
              "      <td>229790</td>\n",
              "      <td>405298</td>\n",
              "      <td>347188</td>\n",
              "      <td>286954</td>\n",
              "      <td>311560</td>\n",
              "      <td>433954</td>\n",
              "      <td>1218</td>\n",
              "      <td>0</td>\n",
              "      <td>0</td>\n",
              "    </tr>\n",
              "  </tbody>\n",
              "</table>\n",
              "<p>5 rows × 171 columns</p>\n",
              "</div>\n",
              "    <div class=\"colab-df-buttons\">\n",
              "\n",
              "  <div class=\"colab-df-container\">\n",
              "    <button class=\"colab-df-convert\" onclick=\"convertToInteractive('df-ab14c8f6-093a-4826-af4b-6f043f0c0694')\"\n",
              "            title=\"Convert this dataframe to an interactive table.\"\n",
              "            style=\"display:none;\">\n",
              "\n",
              "  <svg xmlns=\"http://www.w3.org/2000/svg\" height=\"24px\" viewBox=\"0 -960 960 960\">\n",
              "    <path d=\"M120-120v-720h720v720H120Zm60-500h600v-160H180v160Zm220 220h160v-160H400v160Zm0 220h160v-160H400v160ZM180-400h160v-160H180v160Zm440 0h160v-160H620v160ZM180-180h160v-160H180v160Zm440 0h160v-160H620v160Z\"/>\n",
              "  </svg>\n",
              "    </button>\n",
              "\n",
              "  <style>\n",
              "    .colab-df-container {\n",
              "      display:flex;\n",
              "      gap: 12px;\n",
              "    }\n",
              "\n",
              "    .colab-df-convert {\n",
              "      background-color: #E8F0FE;\n",
              "      border: none;\n",
              "      border-radius: 50%;\n",
              "      cursor: pointer;\n",
              "      display: none;\n",
              "      fill: #1967D2;\n",
              "      height: 32px;\n",
              "      padding: 0 0 0 0;\n",
              "      width: 32px;\n",
              "    }\n",
              "\n",
              "    .colab-df-convert:hover {\n",
              "      background-color: #E2EBFA;\n",
              "      box-shadow: 0px 1px 2px rgba(60, 64, 67, 0.3), 0px 1px 3px 1px rgba(60, 64, 67, 0.15);\n",
              "      fill: #174EA6;\n",
              "    }\n",
              "\n",
              "    .colab-df-buttons div {\n",
              "      margin-bottom: 4px;\n",
              "    }\n",
              "\n",
              "    [theme=dark] .colab-df-convert {\n",
              "      background-color: #3B4455;\n",
              "      fill: #D2E3FC;\n",
              "    }\n",
              "\n",
              "    [theme=dark] .colab-df-convert:hover {\n",
              "      background-color: #434B5C;\n",
              "      box-shadow: 0px 1px 3px 1px rgba(0, 0, 0, 0.15);\n",
              "      filter: drop-shadow(0px 1px 2px rgba(0, 0, 0, 0.3));\n",
              "      fill: #FFFFFF;\n",
              "    }\n",
              "  </style>\n",
              "\n",
              "    <script>\n",
              "      const buttonEl =\n",
              "        document.querySelector('#df-ab14c8f6-093a-4826-af4b-6f043f0c0694 button.colab-df-convert');\n",
              "      buttonEl.style.display =\n",
              "        google.colab.kernel.accessAllowed ? 'block' : 'none';\n",
              "\n",
              "      async function convertToInteractive(key) {\n",
              "        const element = document.querySelector('#df-ab14c8f6-093a-4826-af4b-6f043f0c0694');\n",
              "        const dataTable =\n",
              "          await google.colab.kernel.invokeFunction('convertToInteractive',\n",
              "                                                    [key], {});\n",
              "        if (!dataTable) return;\n",
              "\n",
              "        const docLinkHtml = 'Like what you see? Visit the ' +\n",
              "          '<a target=\"_blank\" href=https://colab.research.google.com/notebooks/data_table.ipynb>data table notebook</a>'\n",
              "          + ' to learn more about interactive tables.';\n",
              "        element.innerHTML = '';\n",
              "        dataTable['output_type'] = 'display_data';\n",
              "        await google.colab.output.renderOutput(dataTable, element);\n",
              "        const docLink = document.createElement('div');\n",
              "        docLink.innerHTML = docLinkHtml;\n",
              "        element.appendChild(docLink);\n",
              "      }\n",
              "    </script>\n",
              "  </div>\n",
              "\n",
              "\n",
              "<div id=\"df-5b04d03c-e352-4e6f-85eb-66b362833726\">\n",
              "  <button class=\"colab-df-quickchart\" onclick=\"quickchart('df-5b04d03c-e352-4e6f-85eb-66b362833726')\"\n",
              "            title=\"Suggest charts\"\n",
              "            style=\"display:none;\">\n",
              "\n",
              "<svg xmlns=\"http://www.w3.org/2000/svg\" height=\"24px\"viewBox=\"0 0 24 24\"\n",
              "     width=\"24px\">\n",
              "    <g>\n",
              "        <path d=\"M19 3H5c-1.1 0-2 .9-2 2v14c0 1.1.9 2 2 2h14c1.1 0 2-.9 2-2V5c0-1.1-.9-2-2-2zM9 17H7v-7h2v7zm4 0h-2V7h2v10zm4 0h-2v-4h2v4z\"/>\n",
              "    </g>\n",
              "</svg>\n",
              "  </button>\n",
              "\n",
              "<style>\n",
              "  .colab-df-quickchart {\n",
              "      --bg-color: #E8F0FE;\n",
              "      --fill-color: #1967D2;\n",
              "      --hover-bg-color: #E2EBFA;\n",
              "      --hover-fill-color: #174EA6;\n",
              "      --disabled-fill-color: #AAA;\n",
              "      --disabled-bg-color: #DDD;\n",
              "  }\n",
              "\n",
              "  [theme=dark] .colab-df-quickchart {\n",
              "      --bg-color: #3B4455;\n",
              "      --fill-color: #D2E3FC;\n",
              "      --hover-bg-color: #434B5C;\n",
              "      --hover-fill-color: #FFFFFF;\n",
              "      --disabled-bg-color: #3B4455;\n",
              "      --disabled-fill-color: #666;\n",
              "  }\n",
              "\n",
              "  .colab-df-quickchart {\n",
              "    background-color: var(--bg-color);\n",
              "    border: none;\n",
              "    border-radius: 50%;\n",
              "    cursor: pointer;\n",
              "    display: none;\n",
              "    fill: var(--fill-color);\n",
              "    height: 32px;\n",
              "    padding: 0;\n",
              "    width: 32px;\n",
              "  }\n",
              "\n",
              "  .colab-df-quickchart:hover {\n",
              "    background-color: var(--hover-bg-color);\n",
              "    box-shadow: 0 1px 2px rgba(60, 64, 67, 0.3), 0 1px 3px 1px rgba(60, 64, 67, 0.15);\n",
              "    fill: var(--button-hover-fill-color);\n",
              "  }\n",
              "\n",
              "  .colab-df-quickchart-complete:disabled,\n",
              "  .colab-df-quickchart-complete:disabled:hover {\n",
              "    background-color: var(--disabled-bg-color);\n",
              "    fill: var(--disabled-fill-color);\n",
              "    box-shadow: none;\n",
              "  }\n",
              "\n",
              "  .colab-df-spinner {\n",
              "    border: 2px solid var(--fill-color);\n",
              "    border-color: transparent;\n",
              "    border-bottom-color: var(--fill-color);\n",
              "    animation:\n",
              "      spin 1s steps(1) infinite;\n",
              "  }\n",
              "\n",
              "  @keyframes spin {\n",
              "    0% {\n",
              "      border-color: transparent;\n",
              "      border-bottom-color: var(--fill-color);\n",
              "      border-left-color: var(--fill-color);\n",
              "    }\n",
              "    20% {\n",
              "      border-color: transparent;\n",
              "      border-left-color: var(--fill-color);\n",
              "      border-top-color: var(--fill-color);\n",
              "    }\n",
              "    30% {\n",
              "      border-color: transparent;\n",
              "      border-left-color: var(--fill-color);\n",
              "      border-top-color: var(--fill-color);\n",
              "      border-right-color: var(--fill-color);\n",
              "    }\n",
              "    40% {\n",
              "      border-color: transparent;\n",
              "      border-right-color: var(--fill-color);\n",
              "      border-top-color: var(--fill-color);\n",
              "    }\n",
              "    60% {\n",
              "      border-color: transparent;\n",
              "      border-right-color: var(--fill-color);\n",
              "    }\n",
              "    80% {\n",
              "      border-color: transparent;\n",
              "      border-right-color: var(--fill-color);\n",
              "      border-bottom-color: var(--fill-color);\n",
              "    }\n",
              "    90% {\n",
              "      border-color: transparent;\n",
              "      border-bottom-color: var(--fill-color);\n",
              "    }\n",
              "  }\n",
              "</style>\n",
              "\n",
              "  <script>\n",
              "    async function quickchart(key) {\n",
              "      const quickchartButtonEl =\n",
              "        document.querySelector('#' + key + ' button');\n",
              "      quickchartButtonEl.disabled = true;  // To prevent multiple clicks.\n",
              "      quickchartButtonEl.classList.add('colab-df-spinner');\n",
              "      try {\n",
              "        const charts = await google.colab.kernel.invokeFunction(\n",
              "            'suggestCharts', [key], {});\n",
              "      } catch (error) {\n",
              "        console.error('Error during call to suggestCharts:', error);\n",
              "      }\n",
              "      quickchartButtonEl.classList.remove('colab-df-spinner');\n",
              "      quickchartButtonEl.classList.add('colab-df-quickchart-complete');\n",
              "    }\n",
              "    (() => {\n",
              "      let quickchartButtonEl =\n",
              "        document.querySelector('#df-5b04d03c-e352-4e6f-85eb-66b362833726 button');\n",
              "      quickchartButtonEl.style.display =\n",
              "        google.colab.kernel.accessAllowed ? 'block' : 'none';\n",
              "    })();\n",
              "  </script>\n",
              "</div>\n",
              "\n",
              "    </div>\n",
              "  </div>\n"
            ],
            "application/vnd.google.colaboratory.intrinsic+json": {
              "type": "dataframe",
              "variable_name": "df"
            }
          },
          "metadata": {},
          "execution_count": 8
        }
      ]
    },
    {
      "cell_type": "code",
      "source": [
        "df.shape\n"
      ],
      "metadata": {
        "execution": {
          "iopub.status.busy": "2023-10-09T13:34:51.595678Z",
          "iopub.execute_input": "2023-10-09T13:34:51.596019Z",
          "iopub.status.idle": "2023-10-09T13:34:51.601735Z",
          "shell.execute_reply.started": "2023-10-09T13:34:51.595991Z",
          "shell.execute_reply": "2023-10-09T13:34:51.600750Z"
        },
        "trusted": true,
        "id": "8EqdTRrdbW6s",
        "outputId": "870ad8d3-4f67-48ba-cfe6-094fdfcf9f62",
        "colab": {
          "base_uri": "https://localhost:8080/"
        }
      },
      "execution_count": null,
      "outputs": [
        {
          "output_type": "execute_result",
          "data": {
            "text/plain": [
              "(60000, 171)"
            ]
          },
          "metadata": {},
          "execution_count": 9
        }
      ]
    },
    {
      "cell_type": "code",
      "source": [
        "df.replace(\"na\", np.nan, inplace=True)"
      ],
      "metadata": {
        "id": "K7Z5PzhzssIN"
      },
      "execution_count": null,
      "outputs": []
    },
    {
      "cell_type": "code",
      "source": [
        "null_counts = df.isnull().sum()\n",
        "print(\"Null values in each column:\\n\", null_counts)"
      ],
      "metadata": {
        "colab": {
          "base_uri": "https://localhost:8080/"
        },
        "id": "KQH_CFxUszCJ",
        "outputId": "96f115b4-8473-4dae-e59f-f85ee06fecd6"
      },
      "execution_count": null,
      "outputs": [
        {
          "output_type": "stream",
          "name": "stdout",
          "text": [
            "Null values in each column:\n",
            " class         0\n",
            "aa_000        0\n",
            "ab_000    46329\n",
            "ac_000     3335\n",
            "ad_000    14861\n",
            "          ...  \n",
            "ee_007      671\n",
            "ee_008      671\n",
            "ee_009      671\n",
            "ef_000     2724\n",
            "eg_000     2723\n",
            "Length: 171, dtype: int64\n"
          ]
        }
      ]
    },
    {
      "cell_type": "code",
      "source": [
        "# Calculate the sum of null values for each column\n",
        "null_counts = df.isnull().sum()\n",
        "\n",
        "# Sort the null counts in descending order\n",
        "sorted_null_counts = null_counts.sort_values(ascending=False)\n",
        "\n",
        "# Display the sum of null values for each column in descending order\n",
        "print(\"Sum of null values in each column (descending order):\")\n",
        "for col, count in sorted_null_counts.items():\n",
        "    print(f\"{col}: {count} null values\")"
      ],
      "metadata": {
        "colab": {
          "base_uri": "https://localhost:8080/"
        },
        "id": "GEn1ADhjs2I-",
        "outputId": "31819e43-a933-4728-b95e-a29058c692ea"
      },
      "execution_count": null,
      "outputs": [
        {
          "output_type": "stream",
          "name": "stdout",
          "text": [
            "Sum of null values in each column (descending order):\n",
            "br_000: 49264 null values\n",
            "bq_000: 48722 null values\n",
            "bp_000: 47740 null values\n",
            "bo_000: 46333 null values\n",
            "ab_000: 46329 null values\n",
            "cr_000: 46329 null values\n",
            "bn_000: 44009 null values\n",
            "bm_000: 39549 null values\n",
            "bl_000: 27277 null values\n",
            "bk_000: 23034 null values\n",
            "ch_000: 14861 null values\n",
            "co_000: 14861 null values\n",
            "cg_000: 14861 null values\n",
            "cf_000: 14861 null values\n",
            "ad_000: 14861 null values\n",
            "ct_000: 13808 null values\n",
            "cu_000: 13808 null values\n",
            "cv_000: 13808 null values\n",
            "cx_000: 13808 null values\n",
            "cy_000: 13808 null values\n",
            "cz_000: 13808 null values\n",
            "da_000: 13808 null values\n",
            "db_000: 13808 null values\n",
            "dc_000: 13808 null values\n",
            "ec_00: 10239 null values\n",
            "cm_000: 9877 null values\n",
            "ed_000: 9553 null values\n",
            "cl_000: 9553 null values\n",
            "ak_000: 4400 null values\n",
            "ca_000: 4356 null values\n",
            "dm_000: 4009 null values\n",
            "dh_000: 4008 null values\n",
            "dg_000: 4008 null values\n",
            "df_000: 4008 null values\n",
            "dl_000: 4008 null values\n",
            "eb_000: 4007 null values\n",
            "dk_000: 4007 null values\n",
            "dj_000: 4007 null values\n",
            "di_000: 4006 null values\n",
            "ac_000: 3335 null values\n",
            "bx_000: 3257 null values\n",
            "cc_000: 3255 null values\n",
            "ds_000: 2727 null values\n",
            "bd_000: 2727 null values\n",
            "dt_000: 2727 null values\n",
            "dr_000: 2726 null values\n",
            "dq_000: 2726 null values\n",
            "du_000: 2726 null values\n",
            "dv_000: 2726 null values\n",
            "dp_000: 2726 null values\n",
            "bc_000: 2725 null values\n",
            "cp_000: 2724 null values\n",
            "do_000: 2724 null values\n",
            "dy_000: 2724 null values\n",
            "ef_000: 2724 null values\n",
            "de_000: 2724 null values\n",
            "bz_000: 2723 null values\n",
            "dx_000: 2723 null values\n",
            "eg_000: 2723 null values\n",
            "ea_000: 2723 null values\n",
            "ar_000: 2723 null values\n",
            "dz_000: 2723 null values\n",
            "dd_000: 2503 null values\n",
            "be_000: 2503 null values\n",
            "ce_000: 2502 null values\n",
            "ax_000: 2501 null values\n",
            "bf_000: 2500 null values\n",
            "av_000: 2500 null values\n",
            "af_000: 2500 null values\n",
            "ae_000: 2500 null values\n",
            "bs_000: 726 null values\n",
            "cb_000: 726 null values\n",
            "cq_000: 691 null values\n",
            "dn_000: 691 null values\n",
            "bv_000: 691 null values\n",
            "bu_000: 691 null values\n",
            "ba_003: 688 null values\n",
            "ba_008: 688 null values\n",
            "ba_002: 688 null values\n",
            "ba_004: 688 null values\n",
            "ba_005: 688 null values\n",
            "ba_006: 688 null values\n",
            "ba_000: 688 null values\n",
            "ba_007: 688 null values\n",
            "ba_009: 688 null values\n",
            "ba_001: 688 null values\n",
            "cn_005: 687 null values\n",
            "cn_007: 687 null values\n",
            "cn_004: 687 null values\n",
            "cn_000: 687 null values\n",
            "cn_008: 687 null values\n",
            "cn_009: 687 null values\n",
            "cn_001: 687 null values\n",
            "cn_006: 687 null values\n",
            "cn_003: 687 null values\n",
            "cn_002: 687 null values\n",
            "cd_000: 676 null values\n",
            "ag_008: 671 null values\n",
            "az_002: 671 null values\n",
            "ag_007: 671 null values\n",
            "ag_006: 671 null values\n",
            "ag_005: 671 null values\n",
            "ag_004: 671 null values\n",
            "ay_008: 671 null values\n",
            "az_001: 671 null values\n",
            "az_000: 671 null values\n",
            "ay_009: 671 null values\n",
            "ag_002: 671 null values\n",
            "ay_007: 671 null values\n",
            "ay_006: 671 null values\n",
            "ay_005: 671 null values\n",
            "ay_004: 671 null values\n",
            "ay_003: 671 null values\n",
            "ay_002: 671 null values\n",
            "ay_001: 671 null values\n",
            "ag_003: 671 null values\n",
            "ee_004: 671 null values\n",
            "ag_001: 671 null values\n",
            "ag_000: 671 null values\n",
            "ee_003: 671 null values\n",
            "ee_002: 671 null values\n",
            "ee_001: 671 null values\n",
            "ee_005: 671 null values\n",
            "ee_009: 671 null values\n",
            "az_009: 671 null values\n",
            "ee_008: 671 null values\n",
            "ee_007: 671 null values\n",
            "ee_006: 671 null values\n",
            "az_008: 671 null values\n",
            "az_007: 671 null values\n",
            "ag_009: 671 null values\n",
            "az_006: 671 null values\n",
            "az_005: 671 null values\n",
            "az_004: 671 null values\n",
            "az_003: 671 null values\n",
            "ee_000: 671 null values\n",
            "ay_000: 671 null values\n",
            "cs_006: 669 null values\n",
            "cs_008: 669 null values\n",
            "cs_005: 669 null values\n",
            "cs_000: 669 null values\n",
            "cs_001: 669 null values\n",
            "cs_002: 669 null values\n",
            "cs_009: 669 null values\n",
            "cs_003: 669 null values\n",
            "cs_007: 669 null values\n",
            "cs_004: 669 null values\n",
            "bb_000: 645 null values\n",
            "ah_000: 645 null values\n",
            "bh_000: 642 null values\n",
            "ap_000: 642 null values\n",
            "bg_000: 642 null values\n",
            "an_000: 642 null values\n",
            "al_000: 642 null values\n",
            "at_000: 629 null values\n",
            "as_000: 629 null values\n",
            "au_000: 629 null values\n",
            "ai_000: 629 null values\n",
            "aj_000: 629 null values\n",
            "am_0: 629 null values\n",
            "bi_000: 589 null values\n",
            "ao_000: 589 null values\n",
            "aq_000: 589 null values\n",
            "bj_000: 589 null values\n",
            "by_000: 473 null values\n",
            "ck_000: 338 null values\n",
            "cj_000: 338 null values\n",
            "ci_000: 338 null values\n",
            "bt_000: 167 null values\n",
            "aa_000: 0 null values\n",
            "class: 0 null values\n"
          ]
        }
      ]
    },
    {
      "cell_type": "code",
      "source": [
        "# Calculate null percentages\n",
        "null_percentages = df.isna().sum() / len(df) * 100\n",
        "\n",
        "# Sort and print in descending order\n",
        "null_percentages = null_percentages.sort_values(ascending=False)\n",
        "print(null_percentages)"
      ],
      "metadata": {
        "colab": {
          "base_uri": "https://localhost:8080/"
        },
        "id": "T96ztC3ntAXv",
        "outputId": "f407903e-f2e2-4862-9288-80c79d797903"
      },
      "execution_count": null,
      "outputs": [
        {
          "output_type": "stream",
          "name": "stdout",
          "text": [
            "br_000    82.106667\n",
            "bq_000    81.203333\n",
            "bp_000    79.566667\n",
            "bo_000    77.221667\n",
            "ab_000    77.215000\n",
            "            ...    \n",
            "cj_000     0.563333\n",
            "ci_000     0.563333\n",
            "bt_000     0.278333\n",
            "aa_000     0.000000\n",
            "class      0.000000\n",
            "Length: 171, dtype: float64\n"
          ]
        }
      ]
    },
    {
      "cell_type": "code",
      "source": [
        "# List of columns to drop\n",
        "columns_to_drop = ['br_000', 'bq_000', 'bp_000', 'bo_000', 'ab_000', 'cr_000', 'bn_000', 'bm_000']\n",
        "\n",
        "# Drop the columns\n",
        "df.drop(columns=columns_to_drop, inplace=True)"
      ],
      "metadata": {
        "id": "digQA9L0tGcn"
      },
      "execution_count": null,
      "outputs": []
    },
    {
      "cell_type": "code",
      "source": [
        "total_nulls = df.isnull().sum().sum()\n",
        "print(\"Total number of null values in the DataFrame:\", total_nulls)"
      ],
      "metadata": {
        "colab": {
          "base_uri": "https://localhost:8080/"
        },
        "id": "ucTpX2MztLAn",
        "outputId": "5db2cfad-6c08-495e-94a6-0ec20ae66c35"
      },
      "execution_count": null,
      "outputs": [
        {
          "output_type": "stream",
          "name": "stdout",
          "text": [
            "Total number of null values in the DataFrame: 481740\n"
          ]
        }
      ]
    },
    {
      "cell_type": "code",
      "source": [
        "df['class'] = df['class'].replace({'neg': 0, 'pos': 1})"
      ],
      "metadata": {
        "colab": {
          "base_uri": "https://localhost:8080/"
        },
        "id": "_f4NNTHvtLED",
        "outputId": "fba51a12-5f1e-4bcc-c8ca-b1f460a2c322"
      },
      "execution_count": null,
      "outputs": [
        {
          "output_type": "stream",
          "name": "stderr",
          "text": [
            "<ipython-input-16-17f928403c43>:1: FutureWarning: Downcasting behavior in `replace` is deprecated and will be removed in a future version. To retain the old behavior, explicitly call `result.infer_objects(copy=False)`. To opt-in to the future behavior, set `pd.set_option('future.no_silent_downcasting', True)`\n",
            "  df['class'] = df['class'].replace({'neg': 0, 'pos': 1})\n"
          ]
        }
      ]
    },
    {
      "cell_type": "code",
      "source": [
        "df.head()"
      ],
      "metadata": {
        "colab": {
          "base_uri": "https://localhost:8080/",
          "height": 255
        },
        "id": "6H_hdrYOtTwU",
        "outputId": "de427162-44b1-4bbb-8f0d-0307301c47c8"
      },
      "execution_count": null,
      "outputs": [
        {
          "output_type": "execute_result",
          "data": {
            "text/plain": [
              "   class  aa_000      ac_000 ad_000 ae_000 af_000 ag_000 ag_001 ag_002 ag_003  \\\n",
              "0      0   76698  2130706438    280      0      0      0      0      0      0   \n",
              "1      0   33058           0    NaN      0      0      0      0      0      0   \n",
              "2      0   41040         228    100      0      0      0      0      0      0   \n",
              "3      0      12          70     66      0     10      0      0      0    318   \n",
              "4      0   60874        1368    458      0      0      0      0      0      0   \n",
              "\n",
              "   ...   ee_002  ee_003  ee_004  ee_005  ee_006  ee_007  ee_008 ee_009 ef_000  \\\n",
              "0  ...  1240520  493384  721044  469792  339156  157956   73224      0      0   \n",
              "1  ...   421400  178064  293306  245416  133654   81140   97576   1500      0   \n",
              "2  ...   277378  159812  423992  409564  320746  158022   95128    514      0   \n",
              "3  ...      240      46      58      44      10       0       0      0      4   \n",
              "4  ...   622012  229790  405298  347188  286954  311560  433954   1218      0   \n",
              "\n",
              "  eg_000  \n",
              "0      0  \n",
              "1      0  \n",
              "2      0  \n",
              "3     32  \n",
              "4      0  \n",
              "\n",
              "[5 rows x 163 columns]"
            ],
            "text/html": [
              "\n",
              "  <div id=\"df-ec9e2228-dd53-4180-8718-d14ad62749b4\" class=\"colab-df-container\">\n",
              "    <div>\n",
              "<style scoped>\n",
              "    .dataframe tbody tr th:only-of-type {\n",
              "        vertical-align: middle;\n",
              "    }\n",
              "\n",
              "    .dataframe tbody tr th {\n",
              "        vertical-align: top;\n",
              "    }\n",
              "\n",
              "    .dataframe thead th {\n",
              "        text-align: right;\n",
              "    }\n",
              "</style>\n",
              "<table border=\"1\" class=\"dataframe\">\n",
              "  <thead>\n",
              "    <tr style=\"text-align: right;\">\n",
              "      <th></th>\n",
              "      <th>class</th>\n",
              "      <th>aa_000</th>\n",
              "      <th>ac_000</th>\n",
              "      <th>ad_000</th>\n",
              "      <th>ae_000</th>\n",
              "      <th>af_000</th>\n",
              "      <th>ag_000</th>\n",
              "      <th>ag_001</th>\n",
              "      <th>ag_002</th>\n",
              "      <th>ag_003</th>\n",
              "      <th>...</th>\n",
              "      <th>ee_002</th>\n",
              "      <th>ee_003</th>\n",
              "      <th>ee_004</th>\n",
              "      <th>ee_005</th>\n",
              "      <th>ee_006</th>\n",
              "      <th>ee_007</th>\n",
              "      <th>ee_008</th>\n",
              "      <th>ee_009</th>\n",
              "      <th>ef_000</th>\n",
              "      <th>eg_000</th>\n",
              "    </tr>\n",
              "  </thead>\n",
              "  <tbody>\n",
              "    <tr>\n",
              "      <th>0</th>\n",
              "      <td>0</td>\n",
              "      <td>76698</td>\n",
              "      <td>2130706438</td>\n",
              "      <td>280</td>\n",
              "      <td>0</td>\n",
              "      <td>0</td>\n",
              "      <td>0</td>\n",
              "      <td>0</td>\n",
              "      <td>0</td>\n",
              "      <td>0</td>\n",
              "      <td>...</td>\n",
              "      <td>1240520</td>\n",
              "      <td>493384</td>\n",
              "      <td>721044</td>\n",
              "      <td>469792</td>\n",
              "      <td>339156</td>\n",
              "      <td>157956</td>\n",
              "      <td>73224</td>\n",
              "      <td>0</td>\n",
              "      <td>0</td>\n",
              "      <td>0</td>\n",
              "    </tr>\n",
              "    <tr>\n",
              "      <th>1</th>\n",
              "      <td>0</td>\n",
              "      <td>33058</td>\n",
              "      <td>0</td>\n",
              "      <td>NaN</td>\n",
              "      <td>0</td>\n",
              "      <td>0</td>\n",
              "      <td>0</td>\n",
              "      <td>0</td>\n",
              "      <td>0</td>\n",
              "      <td>0</td>\n",
              "      <td>...</td>\n",
              "      <td>421400</td>\n",
              "      <td>178064</td>\n",
              "      <td>293306</td>\n",
              "      <td>245416</td>\n",
              "      <td>133654</td>\n",
              "      <td>81140</td>\n",
              "      <td>97576</td>\n",
              "      <td>1500</td>\n",
              "      <td>0</td>\n",
              "      <td>0</td>\n",
              "    </tr>\n",
              "    <tr>\n",
              "      <th>2</th>\n",
              "      <td>0</td>\n",
              "      <td>41040</td>\n",
              "      <td>228</td>\n",
              "      <td>100</td>\n",
              "      <td>0</td>\n",
              "      <td>0</td>\n",
              "      <td>0</td>\n",
              "      <td>0</td>\n",
              "      <td>0</td>\n",
              "      <td>0</td>\n",
              "      <td>...</td>\n",
              "      <td>277378</td>\n",
              "      <td>159812</td>\n",
              "      <td>423992</td>\n",
              "      <td>409564</td>\n",
              "      <td>320746</td>\n",
              "      <td>158022</td>\n",
              "      <td>95128</td>\n",
              "      <td>514</td>\n",
              "      <td>0</td>\n",
              "      <td>0</td>\n",
              "    </tr>\n",
              "    <tr>\n",
              "      <th>3</th>\n",
              "      <td>0</td>\n",
              "      <td>12</td>\n",
              "      <td>70</td>\n",
              "      <td>66</td>\n",
              "      <td>0</td>\n",
              "      <td>10</td>\n",
              "      <td>0</td>\n",
              "      <td>0</td>\n",
              "      <td>0</td>\n",
              "      <td>318</td>\n",
              "      <td>...</td>\n",
              "      <td>240</td>\n",
              "      <td>46</td>\n",
              "      <td>58</td>\n",
              "      <td>44</td>\n",
              "      <td>10</td>\n",
              "      <td>0</td>\n",
              "      <td>0</td>\n",
              "      <td>0</td>\n",
              "      <td>4</td>\n",
              "      <td>32</td>\n",
              "    </tr>\n",
              "    <tr>\n",
              "      <th>4</th>\n",
              "      <td>0</td>\n",
              "      <td>60874</td>\n",
              "      <td>1368</td>\n",
              "      <td>458</td>\n",
              "      <td>0</td>\n",
              "      <td>0</td>\n",
              "      <td>0</td>\n",
              "      <td>0</td>\n",
              "      <td>0</td>\n",
              "      <td>0</td>\n",
              "      <td>...</td>\n",
              "      <td>622012</td>\n",
              "      <td>229790</td>\n",
              "      <td>405298</td>\n",
              "      <td>347188</td>\n",
              "      <td>286954</td>\n",
              "      <td>311560</td>\n",
              "      <td>433954</td>\n",
              "      <td>1218</td>\n",
              "      <td>0</td>\n",
              "      <td>0</td>\n",
              "    </tr>\n",
              "  </tbody>\n",
              "</table>\n",
              "<p>5 rows × 163 columns</p>\n",
              "</div>\n",
              "    <div class=\"colab-df-buttons\">\n",
              "\n",
              "  <div class=\"colab-df-container\">\n",
              "    <button class=\"colab-df-convert\" onclick=\"convertToInteractive('df-ec9e2228-dd53-4180-8718-d14ad62749b4')\"\n",
              "            title=\"Convert this dataframe to an interactive table.\"\n",
              "            style=\"display:none;\">\n",
              "\n",
              "  <svg xmlns=\"http://www.w3.org/2000/svg\" height=\"24px\" viewBox=\"0 -960 960 960\">\n",
              "    <path d=\"M120-120v-720h720v720H120Zm60-500h600v-160H180v160Zm220 220h160v-160H400v160Zm0 220h160v-160H400v160ZM180-400h160v-160H180v160Zm440 0h160v-160H620v160ZM180-180h160v-160H180v160Zm440 0h160v-160H620v160Z\"/>\n",
              "  </svg>\n",
              "    </button>\n",
              "\n",
              "  <style>\n",
              "    .colab-df-container {\n",
              "      display:flex;\n",
              "      gap: 12px;\n",
              "    }\n",
              "\n",
              "    .colab-df-convert {\n",
              "      background-color: #E8F0FE;\n",
              "      border: none;\n",
              "      border-radius: 50%;\n",
              "      cursor: pointer;\n",
              "      display: none;\n",
              "      fill: #1967D2;\n",
              "      height: 32px;\n",
              "      padding: 0 0 0 0;\n",
              "      width: 32px;\n",
              "    }\n",
              "\n",
              "    .colab-df-convert:hover {\n",
              "      background-color: #E2EBFA;\n",
              "      box-shadow: 0px 1px 2px rgba(60, 64, 67, 0.3), 0px 1px 3px 1px rgba(60, 64, 67, 0.15);\n",
              "      fill: #174EA6;\n",
              "    }\n",
              "\n",
              "    .colab-df-buttons div {\n",
              "      margin-bottom: 4px;\n",
              "    }\n",
              "\n",
              "    [theme=dark] .colab-df-convert {\n",
              "      background-color: #3B4455;\n",
              "      fill: #D2E3FC;\n",
              "    }\n",
              "\n",
              "    [theme=dark] .colab-df-convert:hover {\n",
              "      background-color: #434B5C;\n",
              "      box-shadow: 0px 1px 3px 1px rgba(0, 0, 0, 0.15);\n",
              "      filter: drop-shadow(0px 1px 2px rgba(0, 0, 0, 0.3));\n",
              "      fill: #FFFFFF;\n",
              "    }\n",
              "  </style>\n",
              "\n",
              "    <script>\n",
              "      const buttonEl =\n",
              "        document.querySelector('#df-ec9e2228-dd53-4180-8718-d14ad62749b4 button.colab-df-convert');\n",
              "      buttonEl.style.display =\n",
              "        google.colab.kernel.accessAllowed ? 'block' : 'none';\n",
              "\n",
              "      async function convertToInteractive(key) {\n",
              "        const element = document.querySelector('#df-ec9e2228-dd53-4180-8718-d14ad62749b4');\n",
              "        const dataTable =\n",
              "          await google.colab.kernel.invokeFunction('convertToInteractive',\n",
              "                                                    [key], {});\n",
              "        if (!dataTable) return;\n",
              "\n",
              "        const docLinkHtml = 'Like what you see? Visit the ' +\n",
              "          '<a target=\"_blank\" href=https://colab.research.google.com/notebooks/data_table.ipynb>data table notebook</a>'\n",
              "          + ' to learn more about interactive tables.';\n",
              "        element.innerHTML = '';\n",
              "        dataTable['output_type'] = 'display_data';\n",
              "        await google.colab.output.renderOutput(dataTable, element);\n",
              "        const docLink = document.createElement('div');\n",
              "        docLink.innerHTML = docLinkHtml;\n",
              "        element.appendChild(docLink);\n",
              "      }\n",
              "    </script>\n",
              "  </div>\n",
              "\n",
              "\n",
              "<div id=\"df-38920639-cafe-44da-aab3-6664d9f293d8\">\n",
              "  <button class=\"colab-df-quickchart\" onclick=\"quickchart('df-38920639-cafe-44da-aab3-6664d9f293d8')\"\n",
              "            title=\"Suggest charts\"\n",
              "            style=\"display:none;\">\n",
              "\n",
              "<svg xmlns=\"http://www.w3.org/2000/svg\" height=\"24px\"viewBox=\"0 0 24 24\"\n",
              "     width=\"24px\">\n",
              "    <g>\n",
              "        <path d=\"M19 3H5c-1.1 0-2 .9-2 2v14c0 1.1.9 2 2 2h14c1.1 0 2-.9 2-2V5c0-1.1-.9-2-2-2zM9 17H7v-7h2v7zm4 0h-2V7h2v10zm4 0h-2v-4h2v4z\"/>\n",
              "    </g>\n",
              "</svg>\n",
              "  </button>\n",
              "\n",
              "<style>\n",
              "  .colab-df-quickchart {\n",
              "      --bg-color: #E8F0FE;\n",
              "      --fill-color: #1967D2;\n",
              "      --hover-bg-color: #E2EBFA;\n",
              "      --hover-fill-color: #174EA6;\n",
              "      --disabled-fill-color: #AAA;\n",
              "      --disabled-bg-color: #DDD;\n",
              "  }\n",
              "\n",
              "  [theme=dark] .colab-df-quickchart {\n",
              "      --bg-color: #3B4455;\n",
              "      --fill-color: #D2E3FC;\n",
              "      --hover-bg-color: #434B5C;\n",
              "      --hover-fill-color: #FFFFFF;\n",
              "      --disabled-bg-color: #3B4455;\n",
              "      --disabled-fill-color: #666;\n",
              "  }\n",
              "\n",
              "  .colab-df-quickchart {\n",
              "    background-color: var(--bg-color);\n",
              "    border: none;\n",
              "    border-radius: 50%;\n",
              "    cursor: pointer;\n",
              "    display: none;\n",
              "    fill: var(--fill-color);\n",
              "    height: 32px;\n",
              "    padding: 0;\n",
              "    width: 32px;\n",
              "  }\n",
              "\n",
              "  .colab-df-quickchart:hover {\n",
              "    background-color: var(--hover-bg-color);\n",
              "    box-shadow: 0 1px 2px rgba(60, 64, 67, 0.3), 0 1px 3px 1px rgba(60, 64, 67, 0.15);\n",
              "    fill: var(--button-hover-fill-color);\n",
              "  }\n",
              "\n",
              "  .colab-df-quickchart-complete:disabled,\n",
              "  .colab-df-quickchart-complete:disabled:hover {\n",
              "    background-color: var(--disabled-bg-color);\n",
              "    fill: var(--disabled-fill-color);\n",
              "    box-shadow: none;\n",
              "  }\n",
              "\n",
              "  .colab-df-spinner {\n",
              "    border: 2px solid var(--fill-color);\n",
              "    border-color: transparent;\n",
              "    border-bottom-color: var(--fill-color);\n",
              "    animation:\n",
              "      spin 1s steps(1) infinite;\n",
              "  }\n",
              "\n",
              "  @keyframes spin {\n",
              "    0% {\n",
              "      border-color: transparent;\n",
              "      border-bottom-color: var(--fill-color);\n",
              "      border-left-color: var(--fill-color);\n",
              "    }\n",
              "    20% {\n",
              "      border-color: transparent;\n",
              "      border-left-color: var(--fill-color);\n",
              "      border-top-color: var(--fill-color);\n",
              "    }\n",
              "    30% {\n",
              "      border-color: transparent;\n",
              "      border-left-color: var(--fill-color);\n",
              "      border-top-color: var(--fill-color);\n",
              "      border-right-color: var(--fill-color);\n",
              "    }\n",
              "    40% {\n",
              "      border-color: transparent;\n",
              "      border-right-color: var(--fill-color);\n",
              "      border-top-color: var(--fill-color);\n",
              "    }\n",
              "    60% {\n",
              "      border-color: transparent;\n",
              "      border-right-color: var(--fill-color);\n",
              "    }\n",
              "    80% {\n",
              "      border-color: transparent;\n",
              "      border-right-color: var(--fill-color);\n",
              "      border-bottom-color: var(--fill-color);\n",
              "    }\n",
              "    90% {\n",
              "      border-color: transparent;\n",
              "      border-bottom-color: var(--fill-color);\n",
              "    }\n",
              "  }\n",
              "</style>\n",
              "\n",
              "  <script>\n",
              "    async function quickchart(key) {\n",
              "      const quickchartButtonEl =\n",
              "        document.querySelector('#' + key + ' button');\n",
              "      quickchartButtonEl.disabled = true;  // To prevent multiple clicks.\n",
              "      quickchartButtonEl.classList.add('colab-df-spinner');\n",
              "      try {\n",
              "        const charts = await google.colab.kernel.invokeFunction(\n",
              "            'suggestCharts', [key], {});\n",
              "      } catch (error) {\n",
              "        console.error('Error during call to suggestCharts:', error);\n",
              "      }\n",
              "      quickchartButtonEl.classList.remove('colab-df-spinner');\n",
              "      quickchartButtonEl.classList.add('colab-df-quickchart-complete');\n",
              "    }\n",
              "    (() => {\n",
              "      let quickchartButtonEl =\n",
              "        document.querySelector('#df-38920639-cafe-44da-aab3-6664d9f293d8 button');\n",
              "      quickchartButtonEl.style.display =\n",
              "        google.colab.kernel.accessAllowed ? 'block' : 'none';\n",
              "    })();\n",
              "  </script>\n",
              "</div>\n",
              "\n",
              "    </div>\n",
              "  </div>\n"
            ],
            "application/vnd.google.colaboratory.intrinsic+json": {
              "type": "dataframe",
              "variable_name": "df"
            }
          },
          "metadata": {},
          "execution_count": 17
        }
      ]
    },
    {
      "cell_type": "code",
      "source": [
        "df = df.astype(float)"
      ],
      "metadata": {
        "id": "P8ON80b7tYvB"
      },
      "execution_count": null,
      "outputs": []
    },
    {
      "cell_type": "code",
      "source": [
        "df.fillna(df.mean(), inplace=True)"
      ],
      "metadata": {
        "id": "aFElRRONteWs"
      },
      "execution_count": null,
      "outputs": []
    },
    {
      "cell_type": "code",
      "source": [
        "total_nulls = df.isnull().sum().sum()\n",
        "print(\"Total number of null values in the DataFrame:\", total_nulls)"
      ],
      "metadata": {
        "colab": {
          "base_uri": "https://localhost:8080/"
        },
        "id": "4aCk2GaKteZ5",
        "outputId": "b9ba3116-a54e-405c-f095-e83ad6401e67"
      },
      "execution_count": null,
      "outputs": [
        {
          "output_type": "stream",
          "name": "stdout",
          "text": [
            "Total number of null values in the DataFrame: 0\n"
          ]
        }
      ]
    },
    {
      "cell_type": "code",
      "source": [
        "import matplotlib.pyplot as plt\n",
        "\n",
        "pass_fail_counts = df['class'].value_counts()\n",
        "\n",
        "# Plotting the bar plot\n",
        "plt.figure(figsize=(8, 5))\n",
        "pass_fail_counts.plot(kind='bar', color=['green', 'red'])\n",
        "plt.title('Distribution')\n",
        "plt.xlabel('pos and neg')\n",
        "plt.ylabel('Count')\n",
        "plt.xticks(ticks=range(len(pass_fail_counts)), labels=['Negative', 'Positive'], rotation=0)\n",
        "plt.grid(axis='y', linestyle='--', alpha=0.7)\n",
        "plt.show()"
      ],
      "metadata": {
        "colab": {
          "base_uri": "https://localhost:8080/",
          "height": 487
        },
        "id": "xQw4SsF_tedm",
        "outputId": "5098c77c-f3f6-4d0d-9582-56e499949d55"
      },
      "execution_count": null,
      "outputs": [
        {
          "output_type": "display_data",
          "data": {
            "text/plain": [
              "<Figure size 800x500 with 1 Axes>"
            ],
            "image/png": "[encoded data removed]"
          },
          "metadata": {}
        }
      ]
    },
    {
      "cell_type": "code",
      "source": [
        "df.head()"
      ],
      "metadata": {
        "colab": {
          "base_uri": "https://localhost:8080/",
          "height": 255
        },
        "id": "jAO4Is_dt7mb",
        "outputId": "97659c43-2e9b-459e-f57a-5c18bbf9a8a8"
      },
      "execution_count": null,
      "outputs": [
        {
          "output_type": "execute_result",
          "data": {
            "text/plain": [
              "   class   aa_000        ac_000         ad_000  ae_000  af_000  ag_000  \\\n",
              "0    0.0  76698.0  2.130706e+09     280.000000     0.0     0.0     0.0   \n",
              "1    0.0  33058.0  0.000000e+00  190620.639314     0.0     0.0     0.0   \n",
              "2    0.0  41040.0  2.280000e+02     100.000000     0.0     0.0     0.0   \n",
              "3    0.0     12.0  7.000000e+01      66.000000     0.0    10.0     0.0   \n",
              "4    0.0  60874.0  1.368000e+03     458.000000     0.0     0.0     0.0   \n",
              "\n",
              "   ag_001  ag_002  ag_003  ...     ee_002    ee_003    ee_004    ee_005  \\\n",
              "0     0.0     0.0     0.0  ...  1240520.0  493384.0  721044.0  469792.0   \n",
              "1     0.0     0.0     0.0  ...   421400.0  178064.0  293306.0  245416.0   \n",
              "2     0.0     0.0     0.0  ...   277378.0  159812.0  423992.0  409564.0   \n",
              "3     0.0     0.0   318.0  ...      240.0      46.0      58.0      44.0   \n",
              "4     0.0     0.0     0.0  ...   622012.0  229790.0  405298.0  347188.0   \n",
              "\n",
              "     ee_006    ee_007    ee_008  ee_009  ef_000  eg_000  \n",
              "0  339156.0  157956.0   73224.0     0.0     0.0     0.0  \n",
              "1  133654.0   81140.0   97576.0  1500.0     0.0     0.0  \n",
              "2  320746.0  158022.0   95128.0   514.0     0.0     0.0  \n",
              "3      10.0       0.0       0.0     0.0     4.0    32.0  \n",
              "4  286954.0  311560.0  433954.0  1218.0     0.0     0.0  \n",
              "\n",
              "[5 rows x 163 columns]"
            ],
            "text/html": [
              "\n",
              "  <div id=\"df-957d4305-fcbd-415c-b6d7-f2cf80ab2684\" class=\"colab-df-container\">\n",
              "    <div>\n",
              "<style scoped>\n",
              "    .dataframe tbody tr th:only-of-type {\n",
              "        vertical-align: middle;\n",
              "    }\n",
              "\n",
              "    .dataframe tbody tr th {\n",
              "        vertical-align: top;\n",
              "    }\n",
              "\n",
              "    .dataframe thead th {\n",
              "        text-align: right;\n",
              "    }\n",
              "</style>\n",
              "<table border=\"1\" class=\"dataframe\">\n",
              "  <thead>\n",
              "    <tr style=\"text-align: right;\">\n",
              "      <th></th>\n",
              "      <th>class</th>\n",
              "      <th>aa_000</th>\n",
              "      <th>ac_000</th>\n",
              "      <th>ad_000</th>\n",
              "      <th>ae_000</th>\n",
              "      <th>af_000</th>\n",
              "      <th>ag_000</th>\n",
              "      <th>ag_001</th>\n",
              "      <th>ag_002</th>\n",
              "      <th>ag_003</th>\n",
              "      <th>...</th>\n",
              "      <th>ee_002</th>\n",
              "      <th>ee_003</th>\n",
              "      <th>ee_004</th>\n",
              "      <th>ee_005</th>\n",
              "      <th>ee_006</th>\n",
              "      <th>ee_007</th>\n",
              "      <th>ee_008</th>\n",
              "      <th>ee_009</th>\n",
              "      <th>ef_000</th>\n",
              "      <th>eg_000</th>\n",
              "    </tr>\n",
              "  </thead>\n",
              "  <tbody>\n",
              "    <tr>\n",
              "      <th>0</th>\n",
              "      <td>0.0</td>\n",
              "      <td>76698.0</td>\n",
              "      <td>2.130706e+09</td>\n",
              "      <td>280.000000</td>\n",
              "      <td>0.0</td>\n",
              "      <td>0.0</td>\n",
              "      <td>0.0</td>\n",
              "      <td>0.0</td>\n",
              "      <td>0.0</td>\n",
              "      <td>0.0</td>\n",
              "      <td>...</td>\n",
              "      <td>1240520.0</td>\n",
              "      <td>493384.0</td>\n",
              "      <td>721044.0</td>\n",
              "      <td>469792.0</td>\n",
              "      <td>339156.0</td>\n",
              "      <td>157956.0</td>\n",
              "      <td>73224.0</td>\n",
              "      <td>0.0</td>\n",
              "      <td>0.0</td>\n",
              "      <td>0.0</td>\n",
              "    </tr>\n",
              "    <tr>\n",
              "      <th>1</th>\n",
              "      <td>0.0</td>\n",
              "      <td>33058.0</td>\n",
              "      <td>0.000000e+00</td>\n",
              "      <td>190620.639314</td>\n",
              "      <td>0.0</td>\n",
              "      <td>0.0</td>\n",
              "      <td>0.0</td>\n",
              "      <td>0.0</td>\n",
              "      <td>0.0</td>\n",
              "      <td>0.0</td>\n",
              "      <td>...</td>\n",
              "      <td>421400.0</td>\n",
              "      <td>178064.0</td>\n",
              "      <td>293306.0</td>\n",
              "      <td>245416.0</td>\n",
              "      <td>133654.0</td>\n",
              "      <td>81140.0</td>\n",
              "      <td>97576.0</td>\n",
              "      <td>1500.0</td>\n",
              "      <td>0.0</td>\n",
              "      <td>0.0</td>\n",
              "    </tr>\n",
              "    <tr>\n",
              "      <th>2</th>\n",
              "      <td>0.0</td>\n",
              "      <td>41040.0</td>\n",
              "      <td>2.280000e+02</td>\n",
              "      <td>100.000000</td>\n",
              "      <td>0.0</td>\n",
              "      <td>0.0</td>\n",
              "      <td>0.0</td>\n",
              "      <td>0.0</td>\n",
              "      <td>0.0</td>\n",
              "      <td>0.0</td>\n",
              "      <td>...</td>\n",
              "      <td>277378.0</td>\n",
              "      <td>159812.0</td>\n",
              "      <td>423992.0</td>\n",
              "      <td>409564.0</td>\n",
              "      <td>320746.0</td>\n",
              "      <td>158022.0</td>\n",
              "      <td>95128.0</td>\n",
              "      <td>514.0</td>\n",
              "      <td>0.0</td>\n",
              "      <td>0.0</td>\n",
              "    </tr>\n",
              "    <tr>\n",
              "      <th>3</th>\n",
              "      <td>0.0</td>\n",
              "      <td>12.0</td>\n",
              "      <td>7.000000e+01</td>\n",
              "      <td>66.000000</td>\n",
              "      <td>0.0</td>\n",
              "      <td>10.0</td>\n",
              "      <td>0.0</td>\n",
              "      <td>0.0</td>\n",
              "      <td>0.0</td>\n",
              "      <td>318.0</td>\n",
              "      <td>...</td>\n",
              "      <td>240.0</td>\n",
              "      <td>46.0</td>\n",
              "      <td>58.0</td>\n",
              "      <td>44.0</td>\n",
              "      <td>10.0</td>\n",
              "      <td>0.0</td>\n",
              "      <td>0.0</td>\n",
              "      <td>0.0</td>\n",
              "      <td>4.0</td>\n",
              "      <td>32.0</td>\n",
              "    </tr>\n",
              "    <tr>\n",
              "      <th>4</th>\n",
              "      <td>0.0</td>\n",
              "      <td>60874.0</td>\n",
              "      <td>1.368000e+03</td>\n",
              "      <td>458.000000</td>\n",
              "      <td>0.0</td>\n",
              "      <td>0.0</td>\n",
              "      <td>0.0</td>\n",
              "      <td>0.0</td>\n",
              "      <td>0.0</td>\n",
              "      <td>0.0</td>\n",
              "      <td>...</td>\n",
              "      <td>622012.0</td>\n",
              "      <td>229790.0</td>\n",
              "      <td>405298.0</td>\n",
              "      <td>347188.0</td>\n",
              "      <td>286954.0</td>\n",
              "      <td>311560.0</td>\n",
              "      <td>433954.0</td>\n",
              "      <td>1218.0</td>\n",
              "      <td>0.0</td>\n",
              "      <td>0.0</td>\n",
              "    </tr>\n",
              "  </tbody>\n",
              "</table>\n",
              "<p>5 rows × 163 columns</p>\n",
              "</div>\n",
              "    <div class=\"colab-df-buttons\">\n",
              "\n",
              "  <div class=\"colab-df-container\">\n",
              "    <button class=\"colab-df-convert\" onclick=\"convertToInteractive('df-957d4305-fcbd-415c-b6d7-f2cf80ab2684')\"\n",
              "            title=\"Convert this dataframe to an interactive table.\"\n",
              "            style=\"display:none;\">\n",
              "\n",
              "  <svg xmlns=\"http://www.w3.org/2000/svg\" height=\"24px\" viewBox=\"0 -960 960 960\">\n",
              "    <path d=\"M120-120v-720h720v720H120Zm60-500h600v-160H180v160Zm220 220h160v-160H400v160Zm0 220h160v-160H400v160ZM180-400h160v-160H180v160Zm440 0h160v-160H620v160ZM180-180h160v-160H180v160Zm440 0h160v-160H620v160Z\"/>\n",
              "  </svg>\n",
              "    </button>\n",
              "\n",
              "  <style>\n",
              "    .colab-df-container {\n",
              "      display:flex;\n",
              "      gap: 12px;\n",
              "    }\n",
              "\n",
              "    .colab-df-convert {\n",
              "      background-color: #E8F0FE;\n",
              "      border: none;\n",
              "      border-radius: 50%;\n",
              "      cursor: pointer;\n",
              "      display: none;\n",
              "      fill: #1967D2;\n",
              "      height: 32px;\n",
              "      padding: 0 0 0 0;\n",
              "      width: 32px;\n",
              "    }\n",
              "\n",
              "    .colab-df-convert:hover {\n",
              "      background-color: #E2EBFA;\n",
              "      box-shadow: 0px 1px 2px rgba(60, 64, 67, 0.3), 0px 1px 3px 1px rgba(60, 64, 67, 0.15);\n",
              "      fill: #174EA6;\n",
              "    }\n",
              "\n",
              "    .colab-df-buttons div {\n",
              "      margin-bottom: 4px;\n",
              "    }\n",
              "\n",
              "    [theme=dark] .colab-df-convert {\n",
              "      background-color: #3B4455;\n",
              "      fill: #D2E3FC;\n",
              "    }\n",
              "\n",
              "    [theme=dark] .colab-df-convert:hover {\n",
              "      background-color: #434B5C;\n",
              "      box-shadow: 0px 1px 3px 1px rgba(0, 0, 0, 0.15);\n",
              "      filter: drop-shadow(0px 1px 2px rgba(0, 0, 0, 0.3));\n",
              "      fill: #FFFFFF;\n",
              "    }\n",
              "  </style>\n",
              "\n",
              "    <script>\n",
              "      const buttonEl =\n",
              "        document.querySelector('#df-957d4305-fcbd-415c-b6d7-f2cf80ab2684 button.colab-df-convert');\n",
              "      buttonEl.style.display =\n",
              "        google.colab.kernel.accessAllowed ? 'block' : 'none';\n",
              "\n",
              "      async function convertToInteractive(key) {\n",
              "        const element = document.querySelector('#df-957d4305-fcbd-415c-b6d7-f2cf80ab2684');\n",
              "        const dataTable =\n",
              "          await google.colab.kernel.invokeFunction('convertToInteractive',\n",
              "                                                    [key], {});\n",
              "        if (!dataTable) return;\n",
              "\n",
              "        const docLinkHtml = 'Like what you see? Visit the ' +\n",
              "          '<a target=\"_blank\" href=https://colab.research.google.com/notebooks/data_table.ipynb>data table notebook</a>'\n",
              "          + ' to learn more about interactive tables.';\n",
              "        element.innerHTML = '';\n",
              "        dataTable['output_type'] = 'display_data';\n",
              "        await google.colab.output.renderOutput(dataTable, element);\n",
              "        const docLink = document.createElement('div');\n",
              "        docLink.innerHTML = docLinkHtml;\n",
              "        element.appendChild(docLink);\n",
              "      }\n",
              "    </script>\n",
              "  </div>\n",
              "\n",
              "\n",
              "<div id=\"df-ba8c1d99-94a0-4670-b7fc-3c979020d4d3\">\n",
              "  <button class=\"colab-df-quickchart\" onclick=\"quickchart('df-ba8c1d99-94a0-4670-b7fc-3c979020d4d3')\"\n",
              "            title=\"Suggest charts\"\n",
              "            style=\"display:none;\">\n",
              "\n",
              "<svg xmlns=\"http://www.w3.org/2000/svg\" height=\"24px\"viewBox=\"0 0 24 24\"\n",
              "     width=\"24px\">\n",
              "    <g>\n",
              "        <path d=\"M19 3H5c-1.1 0-2 .9-2 2v14c0 1.1.9 2 2 2h14c1.1 0 2-.9 2-2V5c0-1.1-.9-2-2-2zM9 17H7v-7h2v7zm4 0h-2V7h2v10zm4 0h-2v-4h2v4z\"/>\n",
              "    </g>\n",
              "</svg>\n",
              "  </button>\n",
              "\n",
              "<style>\n",
              "  .colab-df-quickchart {\n",
              "      --bg-color: #E8F0FE;\n",
              "      --fill-color: #1967D2;\n",
              "      --hover-bg-color: #E2EBFA;\n",
              "      --hover-fill-color: #174EA6;\n",
              "      --disabled-fill-color: #AAA;\n",
              "      --disabled-bg-color: #DDD;\n",
              "  }\n",
              "\n",
              "  [theme=dark] .colab-df-quickchart {\n",
              "      --bg-color: #3B4455;\n",
              "      --fill-color: #D2E3FC;\n",
              "      --hover-bg-color: #434B5C;\n",
              "      --hover-fill-color: #FFFFFF;\n",
              "      --disabled-bg-color: #3B4455;\n",
              "      --disabled-fill-color: #666;\n",
              "  }\n",
              "\n",
              "  .colab-df-quickchart {\n",
              "    background-color: var(--bg-color);\n",
              "    border: none;\n",
              "    border-radius: 50%;\n",
              "    cursor: pointer;\n",
              "    display: none;\n",
              "    fill: var(--fill-color);\n",
              "    height: 32px;\n",
              "    padding: 0;\n",
              "    width: 32px;\n",
              "  }\n",
              "\n",
              "  .colab-df-quickchart:hover {\n",
              "    background-color: var(--hover-bg-color);\n",
              "    box-shadow: 0 1px 2px rgba(60, 64, 67, 0.3), 0 1px 3px 1px rgba(60, 64, 67, 0.15);\n",
              "    fill: var(--button-hover-fill-color);\n",
              "  }\n",
              "\n",
              "  .colab-df-quickchart-complete:disabled,\n",
              "  .colab-df-quickchart-complete:disabled:hover {\n",
              "    background-color: var(--disabled-bg-color);\n",
              "    fill: var(--disabled-fill-color);\n",
              "    box-shadow: none;\n",
              "  }\n",
              "\n",
              "  .colab-df-spinner {\n",
              "    border: 2px solid var(--fill-color);\n",
              "    border-color: transparent;\n",
              "    border-bottom-color: var(--fill-color);\n",
              "    animation:\n",
              "      spin 1s steps(1) infinite;\n",
              "  }\n",
              "\n",
              "  @keyframes spin {\n",
              "    0% {\n",
              "      border-color: transparent;\n",
              "      border-bottom-color: var(--fill-color);\n",
              "      border-left-color: var(--fill-color);\n",
              "    }\n",
              "    20% {\n",
              "      border-color: transparent;\n",
              "      border-left-color: var(--fill-color);\n",
              "      border-top-color: var(--fill-color);\n",
              "    }\n",
              "    30% {\n",
              "      border-color: transparent;\n",
              "      border-left-color: var(--fill-color);\n",
              "      border-top-color: var(--fill-color);\n",
              "      border-right-color: var(--fill-color);\n",
              "    }\n",
              "    40% {\n",
              "      border-color: transparent;\n",
              "      border-right-color: var(--fill-color);\n",
              "      border-top-color: var(--fill-color);\n",
              "    }\n",
              "    60% {\n",
              "      border-color: transparent;\n",
              "      border-right-color: var(--fill-color);\n",
              "    }\n",
              "    80% {\n",
              "      border-color: transparent;\n",
              "      border-right-color: var(--fill-color);\n",
              "      border-bottom-color: var(--fill-color);\n",
              "    }\n",
              "    90% {\n",
              "      border-color: transparent;\n",
              "      border-bottom-color: var(--fill-color);\n",
              "    }\n",
              "  }\n",
              "</style>\n",
              "\n",
              "  <script>\n",
              "    async function quickchart(key) {\n",
              "      const quickchartButtonEl =\n",
              "        document.querySelector('#' + key + ' button');\n",
              "      quickchartButtonEl.disabled = true;  // To prevent multiple clicks.\n",
              "      quickchartButtonEl.classList.add('colab-df-spinner');\n",
              "      try {\n",
              "        const charts = await google.colab.kernel.invokeFunction(\n",
              "            'suggestCharts', [key], {});\n",
              "      } catch (error) {\n",
              "        console.error('Error during call to suggestCharts:', error);\n",
              "      }\n",
              "      quickchartButtonEl.classList.remove('colab-df-spinner');\n",
              "      quickchartButtonEl.classList.add('colab-df-quickchart-complete');\n",
              "    }\n",
              "    (() => {\n",
              "      let quickchartButtonEl =\n",
              "        document.querySelector('#df-ba8c1d99-94a0-4670-b7fc-3c979020d4d3 button');\n",
              "      quickchartButtonEl.style.display =\n",
              "        google.colab.kernel.accessAllowed ? 'block' : 'none';\n",
              "    })();\n",
              "  </script>\n",
              "</div>\n",
              "\n",
              "    </div>\n",
              "  </div>\n"
            ],
            "application/vnd.google.colaboratory.intrinsic+json": {
              "type": "dataframe",
              "variable_name": "df"
            }
          },
          "metadata": {},
          "execution_count": 22
        }
      ]
    },
    {
      "cell_type": "code",
      "source": [
        "from sklearn.model_selection import train_test_split\n",
        "from sklearn.preprocessing import StandardScaler\n",
        "from sklearn.svm import SVC\n",
        "from sklearn.tree import DecisionTreeClassifier\n",
        "from sklearn.neighbors import KNeighborsClassifier\n",
        "from sklearn.metrics import classification_report, confusion_matrix, accuracy_score\n",
        "from tensorflow.keras.models import Sequential\n",
        "from tensorflow.keras.layers import Dense, LSTM, Conv1D, Flatten, Dropout\n",
        "from tensorflow.keras.utils import to_categorical\n",
        "from sklearn.svm import SVC\n",
        "from tensorflow.keras import layers, models"
      ],
      "metadata": {
        "id": "MZE82Jkit7p9"
      },
      "execution_count": null,
      "outputs": []
    },
    {
      "cell_type": "code",
      "source": [
        "X = df.drop(columns=['class'])\n",
        "y = df['class']\n",
        "\n",
        "# Split the data into training and testing sets\n",
        "X_train, X_test, y_train, y_test = train_test_split(X, y, test_size=0.2, random_state=42)\n",
        "\n",
        "# Scale features for SVM and KNN\n",
        "scaler = StandardScaler()\n",
        "X_train_scaled = scaler.fit_transform(X_train)\n",
        "X_test_scaled = scaler.transform(X_test)"
      ],
      "metadata": {
        "id": "3rSR3DYet7tO"
      },
      "execution_count": null,
      "outputs": []
    },
    {
      "cell_type": "code",
      "source": [
        "import pandas as pd\n",
        "from sklearn.model_selection import train_test_split\n",
        "from sklearn.preprocessing import StandardScaler\n",
        "\n",
        "# Assuming df is your DataFrame\n",
        "X = df.drop(columns=['class'])  # Features\n",
        "y = df['class']                  # Target variable\n",
        "\n",
        "y = y.astype(int)\n",
        "\n",
        "# Step 1: Initial split to create a temporary test set\n",
        "X_train, X_temp, y_train, y_temp = train_test_split(X, y, test_size=0.2, random_state=42)\n",
        "\n",
        "# Step 2: Identify instances of class 1 in the entire dataset\n",
        "class_1_indices = y[y == 1].index\n",
        "class_1_count = len(class_1_indices)\n",
        "\n",
        "# Step 3: Select all class 1 instances for the test set\n",
        "X_test = X.loc[class_1_indices]\n",
        "y_test = y.loc[class_1_indices]\n",
        "\n",
        "# Step 4: Add instances of class 0 to the test set\n",
        "# Calculate how many additional class 0 instances are needed\n",
        "required_class_0 = len(X_temp) - class_1_count\n",
        "\n",
        "# Filter class 0 instances from the temporary test set\n",
        "class_0_indices = y_temp[y_temp == 0].index\n",
        "X_class_0 = X_temp.loc[class_0_indices]\n",
        "\n",
        "# Select the required number of class 0 instances\n",
        "X_class_0_test = X_class_0.sample(n=required_class_0, random_state=42)\n",
        "\n",
        "# Combine class 1 and selected class 0 instances for the test set\n",
        "X_test = pd.concat([X_test, X_class_0_test])\n",
        "y_test = pd.concat([y_test, y_temp.loc[X_class_0_test.index]])\n",
        "\n",
        "# Step 5: Form the final training set\n",
        "remaining_class_0_indices = y_temp[y_temp == 0].index.difference(X_class_0_test.index)\n",
        "X_train = pd.concat([X_train, X_class_0.loc[remaining_class_0_indices]])\n",
        "y_train = pd.concat([y_train, y_temp.loc[remaining_class_0_indices]])\n",
        "\n",
        "# Print the shapes of the resulting datasets\n",
        "print(f\"Training data shape: {X_train.shape}, Training labels shape: {y_train.shape}\")\n",
        "print(f\"Testing data shape: {X_test.shape}, Testing labels shape: {y_test.shape}\")\n",
        "\n",
        "# Scale the features\n",
        "scaler = StandardScaler()\n",
        "X_train_scaled = scaler.fit_transform(X_train)\n",
        "X_test_scaled = scaler.transform(X_test)\n",
        "\n",
        "# Optional: Print the scaled shapes\n",
        "print(f\"Scaled Training data shape: {X_train_scaled.shape}\")\n",
        "print(f\"Scaled Testing data shape: {X_test_scaled.shape}\")\n"
      ],
      "metadata": {
        "colab": {
          "base_uri": "https://localhost:8080/"
        },
        "id": "LLn0kzbft7w9",
        "outputId": "bb5e0eaa-12cb-4871-fc85-6eb6ac6c7e25"
      },
      "execution_count": null,
      "outputs": [
        {
          "output_type": "stream",
          "name": "stdout",
          "text": [
            "Training data shape: (48788, 162), Training labels shape: (48788,)\n",
            "Testing data shape: (12000, 162), Testing labels shape: (12000,)\n",
            "Scaled Training data shape: (48788, 162)\n",
            "Scaled Testing data shape: (12000, 162)\n"
          ]
        }
      ]
    },
    {
      "cell_type": "code",
      "source": [
        "# Check the count of labels in y_train\n",
        "label_counts = y_test.value_counts()\n",
        "print(\"Label counts in y_train:\\n\", label_counts)"
      ],
      "metadata": {
        "colab": {
          "base_uri": "https://localhost:8080/"
        },
        "id": "7UPds183uVpk",
        "outputId": "6edca64a-6c62-4419-b94d-a159531c3cfd"
      },
      "execution_count": null,
      "outputs": [
        {
          "output_type": "stream",
          "name": "stdout",
          "text": [
            "Label counts in y_train:\n",
            " class\n",
            "0    11000\n",
            "1     1000\n",
            "Name: count, dtype: int64\n"
          ]
        }
      ]
    },
    {
      "cell_type": "code",
      "source": [
        "y_train.shape"
      ],
      "metadata": {
        "colab": {
          "base_uri": "https://localhost:8080/"
        },
        "id": "iS9xivUGufpG",
        "outputId": "277ab38f-be93-4bb8-ebb7-41f3dc95b0d8"
      },
      "execution_count": null,
      "outputs": [
        {
          "output_type": "execute_result",
          "data": {
            "text/plain": [
              "(48788,)"
            ]
          },
          "metadata": {},
          "execution_count": 27
        }
      ]
    },
    {
      "cell_type": "code",
      "source": [],
      "metadata": {
        "id": "ANLUvUAvuftd"
      },
      "execution_count": null,
      "outputs": []
    },
    {
      "cell_type": "code",
      "source": [
        "import pandas as pd\n",
        "from imblearn.over_sampling import SMOTE\n",
        "\n",
        "\n",
        "# Import train_test_split to split the data into training and testing sets\n",
        "from sklearn.model_selection import train_test_split\n",
        "\n",
        "# Split the data into training and testing sets (adjust the test_size as needed)\n",
        "X_train, X_test, y_train, y_test = train_test_split(X, y, test_size=0.2, random_state=42)\n",
        "\n",
        "# Apply SMOTE to the training set\n",
        "smote = SMOTE(random_state=42)\n",
        "X_train_resampled, y_train_resampled = smote.fit_resample(X_train, y_train)\n",
        "\n",
        "# Combine X_train_resampled and y_train_resampled into a single DataFrame\n",
        "resampled_data = pd.concat([pd.DataFrame(X_train_resampled, columns=X_train.columns), pd.DataFrame(y_train_resampled, columns=['class'])], axis=1)\n",
        "\n",
        "# Check the class distribution before and after SMOTE\n",
        "print(\"Class Distribution Before SMOTE:\")\n",
        "print(y_train.value_counts().to_frame())\n",
        "\n",
        "print(\"\\nClass Distribution After SMOTE:\")\n",
        "print(resampled_data['class'].value_counts().to_frame())"
      ],
      "metadata": {
        "execution": {
          "iopub.status.busy": "2023-08-02T13:53:24.447125Z",
          "iopub.execute_input": "2023-08-02T13:53:24.447990Z",
          "iopub.status.idle": "2023-08-02T13:53:25.110889Z",
          "shell.execute_reply.started": "2023-08-02T13:53:24.447947Z",
          "shell.execute_reply": "2023-08-02T13:53:25.109910Z"
        },
        "trusted": true,
        "id": "Ymy3a8y-bW6t",
        "outputId": "605cedc7-1acf-48bf-fe66-1e30c2b7fb06",
        "colab": {
          "base_uri": "https://localhost:8080/"
        }
      },
      "execution_count": null,
      "outputs": [
        {
          "output_type": "stream",
          "name": "stdout",
          "text": [
            "Class Distribution Before SMOTE:\n",
            "       count\n",
            "class       \n",
            "0      47212\n",
            "1        788\n",
            "\n",
            "Class Distribution After SMOTE:\n",
            "       count\n",
            "class       \n",
            "0      47212\n",
            "1      47212\n"
          ]
        }
      ]
    },
    {
      "cell_type": "code",
      "source": [],
      "metadata": {
        "id": "85d-z83Nt6WM"
      },
      "execution_count": null,
      "outputs": []
    },
    {
      "cell_type": "code",
      "source": [
        "resampled_data.shape"
      ],
      "metadata": {
        "execution": {
          "iopub.status.busy": "2023-08-02T13:53:25.113675Z",
          "iopub.execute_input": "2023-08-02T13:53:25.114591Z",
          "iopub.status.idle": "2023-08-02T13:53:25.125428Z",
          "shell.execute_reply.started": "2023-08-02T13:53:25.114548Z",
          "shell.execute_reply": "2023-08-02T13:53:25.122158Z"
        },
        "trusted": true,
        "id": "edBk6KQcbW6u",
        "outputId": "2eb14774-1ccf-4230-f194-12edf46775b2",
        "colab": {
          "base_uri": "https://localhost:8080/"
        }
      },
      "execution_count": null,
      "outputs": [
        {
          "output_type": "execute_result",
          "data": {
            "text/plain": [
              "(94424, 163)"
            ]
          },
          "metadata": {},
          "execution_count": 29
        }
      ]
    },
    {
      "cell_type": "markdown",
      "source": [
        "# CNN"
      ],
      "metadata": {
        "id": "SNI42Ml5bW6v"
      }
    },
    {
      "cell_type": "code",
      "source": [
        "import pandas as pd\n",
        "import numpy as np\n",
        "import tensorflow as tf\n",
        "from tensorflow.keras.models import Sequential\n",
        "from tensorflow.keras.layers import Conv1D, MaxPooling1D, Flatten, Dense\n",
        "from sklearn.metrics import precision_score, recall_score, f1_score\n",
        "\n",
        "# Assuming your dataset has 'class' as the target (label) and the rest are features\n",
        "\n",
        "# Specify the features (based on your column names)\n",
        "features = [\n",
        "    'aa_000', 'ac_000', 'ad_000', 'ae_000', 'af_000', 'ag_000',\n",
        "    'ag_001', 'ag_002', 'ag_003', 'ee_002', 'ee_003', 'ee_004',\n",
        "    'ee_005', 'ee_006', 'ee_007', 'ee_008', 'ee_009', 'ef_000',\n",
        "    'eg_000'\n",
        "]\n",
        "\n",
        "# Specify the label (target column)\n",
        "label = ['class']\n",
        "\n",
        "\n",
        "X = resampled_data[features].values\n",
        "y = resampled_data[label].values\n",
        "\n",
        "# Step 2: Preprocess the data (scaling, normalization, etc.)\n",
        "# You can perform scaling, normalization, or any other preprocessing based on your data characteristics and requirements.\n",
        "\n",
        "# Step 3: Split the data into training and testing sets\n",
        "X_train, X_test, y_train, y_test = train_test_split(X, y, test_size=0.2, random_state=42)\n",
        "# Split the data into train and test sets\n",
        "\n",
        "# Get the number of records in the train and test datasets\n",
        "num_train_records = X_train.shape[0]\n",
        "num_test_records = X_test.shape[0]\n",
        "\n",
        "print(f\"Number of records in the train dataset: {num_train_records}\")\n",
        "print(f\"Number of records in the test dataset: {num_test_records}\")\n",
        "# Step 4: Create the CNN model\n",
        "model = Sequential()\n",
        "model.add(Conv1D(filters=64, kernel_size=3, activation='relu', input_shape=(X_train.shape[1], 1)))\n",
        "model.add(MaxPooling1D(pool_size=2))\n",
        "model.add(Flatten())\n",
        "model.add(Dense(128, activation='relu'))\n",
        "model.add(Dense(1, activation='sigmoid'))\n",
        "\n",
        "# Step 5: Compile the model\n",
        "model.compile(optimizer='adam', loss='binary_crossentropy', metrics=['accuracy'])\n",
        "\n",
        "# Step 6: Train the model on the trainingA data\n",
        "model.fit(X_train.reshape(X_train.shape[0], X_train.shape[1], 1), y_train, epochs=15, batch_size=32)\n",
        "\n",
        "# Step 7: Evaluate the model on the testing data\n",
        "loss, accuracy = model.evaluate(X_test.reshape(X_test.shape[0], X_test.shape[1], 1), y_test)\n",
        "print(\"Test accuracy:\", accuracy)\n",
        "\n",
        "# Step 8: Make predictions using the trained model\n",
        "y_pred = model.predict(X_test.reshape(X_test.shape[0], X_test.shape[1], 1))\n",
        "\n",
        "# Convert probabilities to binary predictions (0 or 1)\n",
        "y_pred_binary = np.round(y_pred)\n",
        "\n",
        "# Remove the extra dimension from y_test\n",
        "y_test = y_test.ravel()\n",
        "\n",
        "# Calculate precision, recall, and F1 score\n",
        "precision = precision_score(y_test, y_pred_binary)\n",
        "recall = recall_score(y_test, y_pred_binary)\n",
        "f1 = f1_score(y_test, y_pred_binary)\n",
        "\n",
        "print(\"Precision:\", precision)\n",
        "print(\"Recall:\", recall)\n",
        "print(\"F1 Score:\", f1)\n"
      ],
      "metadata": {
        "execution": {
          "iopub.status.busy": "2023-08-02T13:53:25.142309Z",
          "iopub.execute_input": "2023-08-02T13:53:25.143193Z",
          "iopub.status.idle": "2023-08-02T13:54:12.726502Z",
          "shell.execute_reply.started": "2023-08-02T13:53:25.143156Z",
          "shell.execute_reply": "2023-08-02T13:54:12.725479Z"
        },
        "trusted": true,
        "id": "fJ5MMjPmbW6z",
        "outputId": "b8a92795-e7dd-42cb-8147-4e031ba145d8",
        "colab": {
          "base_uri": "https://localhost:8080/"
        }
      },
      "execution_count": null,
      "outputs": [
        {
          "output_type": "stream",
          "name": "stdout",
          "text": [
            "Number of records in the train dataset: 75539\n",
            "Number of records in the test dataset: 18885\n"
          ]
        },
        {
          "output_type": "stream",
          "name": "stderr",
          "text": [
            "/usr/local/lib/python3.10/dist-packages/keras/src/layers/convolutional/base_conv.py:107: UserWarning: Do not pass an `input_shape`/`input_dim` argument to a layer. When using Sequential models, prefer using an `Input(shape)` object as the first layer in the model instead.\n",
            "  super().__init__(activity_regularizer=activity_regularizer, **kwargs)\n"
          ]
        },
        {
          "output_type": "stream",
          "name": "stdout",
          "text": [
            "Epoch 1/15\n",
            "\u001b[1m2361/2361\u001b[0m \u001b[32m━━━━━━━━━━━━━━━━━━━━\u001b[0m\u001b[37m\u001b[0m \u001b[1m10s\u001b[0m 3ms/step - accuracy: 0.7155 - loss: 423360.5938\n",
            "Epoch 2/15\n",
            "\u001b[1m2361/2361\u001b[0m \u001b[32m━━━━━━━━━━━━━━━━━━━━\u001b[0m\u001b[37m\u001b[0m \u001b[1m11s\u001b[0m 5ms/step - accuracy: 0.8164 - loss: 69291.0391\n",
            "Epoch 3/15\n",
            "\u001b[1m2361/2361\u001b[0m \u001b[32m━━━━━━━━━━━━━━━━━━━━\u001b[0m\u001b[37m\u001b[0m \u001b[1m9s\u001b[0m 4ms/step - accuracy: 0.8564 - loss: 17895.4902\n",
            "Epoch 4/15\n",
            "\u001b[1m2361/2361\u001b[0m \u001b[32m━━━━━━━━━━━━━━━━━━━━\u001b[0m\u001b[37m\u001b[0m \u001b[1m9s\u001b[0m 4ms/step - accuracy: 0.8734 - loss: 5062.0225\n",
            "Epoch 5/15\n",
            "\u001b[1m2361/2361\u001b[0m \u001b[32m━━━━━━━━━━━━━━━━━━━━\u001b[0m\u001b[37m\u001b[0m \u001b[1m10s\u001b[0m 4ms/step - accuracy: 0.9110 - loss: 1067.8552\n",
            "Epoch 6/15\n",
            "\u001b[1m2361/2361\u001b[0m \u001b[32m━━━━━━━━━━━━━━━━━━━━\u001b[0m\u001b[37m\u001b[0m \u001b[1m8s\u001b[0m 3ms/step - accuracy: 0.8958 - loss: 171.0326\n",
            "Epoch 7/15\n",
            "\u001b[1m2361/2361\u001b[0m \u001b[32m━━━━━━━━━━━━━━━━━━━━\u001b[0m\u001b[37m\u001b[0m \u001b[1m11s\u001b[0m 4ms/step - accuracy: 0.8839 - loss: 7.4209\n",
            "Epoch 8/15\n",
            "\u001b[1m2361/2361\u001b[0m \u001b[32m━━━━━━━━━━━━━━━━━━━━\u001b[0m\u001b[37m\u001b[0m \u001b[1m11s\u001b[0m 4ms/step - accuracy: 0.8798 - loss: 0.7407\n",
            "Epoch 9/15\n",
            "\u001b[1m2361/2361\u001b[0m \u001b[32m━━━━━━━━━━━━━━━━━━━━\u001b[0m\u001b[37m\u001b[0m \u001b[1m9s\u001b[0m 4ms/step - accuracy: 0.8892 - loss: 0.8129\n",
            "Epoch 10/15\n",
            "\u001b[1m2361/2361\u001b[0m \u001b[32m━━━━━━━━━━━━━━━━━━━━\u001b[0m\u001b[37m\u001b[0m \u001b[1m10s\u001b[0m 4ms/step - accuracy: 0.8907 - loss: 0.3120\n",
            "Epoch 11/15\n",
            "\u001b[1m2361/2361\u001b[0m \u001b[32m━━━━━━━━━━━━━━━━━━━━\u001b[0m\u001b[37m\u001b[0m \u001b[1m11s\u001b[0m 4ms/step - accuracy: 0.8866 - loss: 0.3443\n",
            "Epoch 12/15\n",
            "\u001b[1m2361/2361\u001b[0m \u001b[32m━━━━━━━━━━━━━━━━━━━━\u001b[0m\u001b[37m\u001b[0m \u001b[1m8s\u001b[0m 3ms/step - accuracy: 0.8659 - loss: 2.9165\n",
            "Epoch 13/15\n",
            "\u001b[1m2361/2361\u001b[0m \u001b[32m━━━━━━━━━━━━━━━━━━━━\u001b[0m\u001b[37m\u001b[0m \u001b[1m10s\u001b[0m 4ms/step - accuracy: 0.8797 - loss: 11.8353\n",
            "Epoch 14/15\n",
            "\u001b[1m2361/2361\u001b[0m \u001b[32m━━━━━━━━━━━━━━━━━━━━\u001b[0m\u001b[37m\u001b[0m \u001b[1m18s\u001b[0m 3ms/step - accuracy: 0.8905 - loss: 0.9584\n",
            "Epoch 15/15\n",
            "\u001b[1m2361/2361\u001b[0m \u001b[32m━━━━━━━━━━━━━━━━━━━━\u001b[0m\u001b[37m\u001b[0m \u001b[1m10s\u001b[0m 4ms/step - accuracy: 0.8873 - loss: 3.4147\n",
            "\u001b[1m591/591\u001b[0m \u001b[32m━━━━━━━━━━━━━━━━━━━━\u001b[0m\u001b[37m\u001b[0m \u001b[1m1s\u001b[0m 2ms/step - accuracy: 0.8851 - loss: 0.3010\n",
            "Test accuracy: 0.8846174478530884\n",
            "\u001b[1m591/591\u001b[0m \u001b[32m━━━━━━━━━━━━━━━━━━━━\u001b[0m\u001b[37m\u001b[0m \u001b[1m1s\u001b[0m 2ms/step\n",
            "Precision: 0.8914007571660357\n",
            "Recall: 0.8752124044180118\n",
            "F1 Score: 0.883232409838701\n"
          ]
        }
      ]
    },
    {
      "cell_type": "code",
      "source": [
        "import matplotlib.pyplot as plt\n",
        "\n",
        "# Plot accuracy, precision, recall, and F1 score\n",
        "metrics = ['Accuracy', 'Precision', 'Recall', 'F1 Score']\n",
        "values = [accuracy, precision, recall, f1]\n",
        "\n",
        "plt.figure(figsize=(4, 4))\n",
        "plt.bar(metrics, values, color=['skyblue', 'salmon', 'lightgreen', 'orange'])\n",
        "plt.ylim(0, 1)\n",
        "plt.title('Model Performance Metrics')\n",
        "plt.ylabel('Score')\n",
        "plt.show()\n",
        "\n"
      ],
      "metadata": {
        "colab": {
          "base_uri": "https://localhost:8080/",
          "height": 391
        },
        "id": "lc6-rPtHxcnD",
        "outputId": "9fb3617f-a7b1-4adb-a958-ba689c7c698c"
      },
      "execution_count": null,
      "outputs": [
        {
          "output_type": "display_data",
          "data": {
            "text/plain": [
              "<Figure size 400x400 with 1 Axes>"
            ],
            "image/png": "[encoded data removed]"
          },
          "metadata": {}
        }
      ]
    },
    {
      "cell_type": "code",
      "source": [
        "\n",
        "# Plot training & validation accuracy values\n",
        "plt.figure(figsize=(12, 5))\n",
        "\n",
        "# Plot accuracy\n",
        "plt.subplot(1, 2, 1)\n",
        "plt.plot(history.history['accuracy'], label='Train Accuracy')\n",
        "plt.plot(history.history['val_accuracy'], label='Validation Accuracy')\n",
        "plt.title('Model Accuracy')\n",
        "plt.xlabel('Epoch')\n",
        "plt.ylabel('Accuracy')\n",
        "plt.legend()\n",
        "\n",
        "# Plot loss\n",
        "plt.subplot(1, 2, 2)\n",
        "plt.plot(history.history['loss'], label='Train Loss')\n",
        "plt.plot(history.history['val_loss'], label='Validation Loss')\n",
        "plt.title('Model Loss')\n",
        "plt.xlabel('Epoch')\n",
        "plt.ylabel('Loss')\n",
        "plt.legend()\n",
        "\n",
        "plt.tight_layout()\n",
        "plt.show()\n"
      ],
      "metadata": {
        "colab": {
          "base_uri": "https://localhost:8080/",
          "height": 996
        },
        "id": "AbvnSEllzMmY",
        "outputId": "29cb1285-01af-4751-f2eb-cc42f684d8cf"
      },
      "execution_count": null,
      "outputs": [
        {
          "output_type": "stream",
          "name": "stdout",
          "text": [
            "Epoch 1/15\n",
            "\u001b[1m1889/1889\u001b[0m \u001b[32m━━━━━━━━━━━━━━━━━━━━\u001b[0m\u001b[37m\u001b[0m \u001b[1m13s\u001b[0m 7ms/step - accuracy: 0.8827 - loss: 7.0373 - val_accuracy: 0.8873 - val_loss: 0.3404\n",
            "Epoch 2/15\n",
            "\u001b[1m1889/1889\u001b[0m \u001b[32m━━━━━━━━━━━━━━━━━━━━\u001b[0m\u001b[37m\u001b[0m \u001b[1m12s\u001b[0m 6ms/step - accuracy: 0.8853 - loss: 0.5609 - val_accuracy: 0.8897 - val_loss: 0.2847\n",
            "Epoch 3/15\n",
            "\u001b[1m1889/1889\u001b[0m \u001b[32m━━━━━━━━━━━━━━━━━━━━\u001b[0m\u001b[37m\u001b[0m \u001b[1m10s\u001b[0m 5ms/step - accuracy: 0.8860 - loss: 1.5094 - val_accuracy: 0.8929 - val_loss: 0.2708\n",
            "Epoch 4/15\n",
            "\u001b[1m1889/1889\u001b[0m \u001b[32m━━━━━━━━━━━━━━━━━━━━\u001b[0m\u001b[37m\u001b[0m \u001b[1m8s\u001b[0m 4ms/step - accuracy: 0.8891 - loss: 1.9784 - val_accuracy: 0.8777 - val_loss: 0.4586\n",
            "Epoch 5/15\n",
            "\u001b[1m1889/1889\u001b[0m \u001b[32m━━━━━━━━━━━━━━━━━━━━\u001b[0m\u001b[37m\u001b[0m \u001b[1m9s\u001b[0m 5ms/step - accuracy: 0.8716 - loss: 98.2817 - val_accuracy: 0.8938 - val_loss: 0.2677\n",
            "Epoch 6/15\n",
            "\u001b[1m1889/1889\u001b[0m \u001b[32m━━━━━━━━━━━━━━━━━━━━\u001b[0m\u001b[37m\u001b[0m \u001b[1m7s\u001b[0m 4ms/step - accuracy: 0.8911 - loss: 0.2915 - val_accuracy: 0.8959 - val_loss: 0.2643\n",
            "Epoch 7/15\n",
            "\u001b[1m1889/1889\u001b[0m \u001b[32m━━━━━━━━━━━━━━━━━━━━\u001b[0m\u001b[37m\u001b[0m \u001b[1m11s\u001b[0m 4ms/step - accuracy: 0.8817 - loss: 29.4800 - val_accuracy: 0.8990 - val_loss: 0.2631\n",
            "Epoch 8/15\n",
            "\u001b[1m1889/1889\u001b[0m \u001b[32m━━━━━━━━━━━━━━━━━━━━\u001b[0m\u001b[37m\u001b[0m \u001b[1m8s\u001b[0m 4ms/step - accuracy: 0.8995 - loss: 0.2668 - val_accuracy: 0.8979 - val_loss: 0.2713\n",
            "Epoch 9/15\n",
            "\u001b[1m1889/1889\u001b[0m \u001b[32m━━━━━━━━━━━━━━━━━━━━\u001b[0m\u001b[37m\u001b[0m \u001b[1m9s\u001b[0m 4ms/step - accuracy: 0.8933 - loss: 3.5890 - val_accuracy: 0.8969 - val_loss: 0.2737\n",
            "Epoch 10/15\n",
            "\u001b[1m1889/1889\u001b[0m \u001b[32m━━━━━━━━━━━━━━━━━━━━\u001b[0m\u001b[37m\u001b[0m \u001b[1m11s\u001b[0m 4ms/step - accuracy: 0.8901 - loss: 66.1089 - val_accuracy: 0.8968 - val_loss: 0.2663\n",
            "Epoch 11/15\n",
            "\u001b[1m1889/1889\u001b[0m \u001b[32m━━━━━━━━━━━━━━━━━━━━\u001b[0m\u001b[37m\u001b[0m \u001b[1m11s\u001b[0m 5ms/step - accuracy: 0.8911 - loss: 2.8477 - val_accuracy: 0.8981 - val_loss: 0.2663\n",
            "Epoch 12/15\n",
            "\u001b[1m1889/1889\u001b[0m \u001b[32m━━━━━━━━━━━━━━━━━━━━\u001b[0m\u001b[37m\u001b[0m \u001b[1m9s\u001b[0m 4ms/step - accuracy: 0.8810 - loss: 12.6468 - val_accuracy: 0.8959 - val_loss: 0.2674\n",
            "Epoch 13/15\n",
            "\u001b[1m1889/1889\u001b[0m \u001b[32m━━━━━━━━━━━━━━━━━━━━\u001b[0m\u001b[37m\u001b[0m \u001b[1m10s\u001b[0m 4ms/step - accuracy: 0.8688 - loss: 98.9207 - val_accuracy: 0.8849 - val_loss: 0.3644\n",
            "Epoch 14/15\n",
            "\u001b[1m1889/1889\u001b[0m \u001b[32m━━━━━━━━━━━━━━━━━━━━\u001b[0m\u001b[37m\u001b[0m \u001b[1m11s\u001b[0m 6ms/step - accuracy: 0.8829 - loss: 1.0685 - val_accuracy: 0.8920 - val_loss: 0.2832\n",
            "Epoch 15/15\n",
            "\u001b[1m1889/1889\u001b[0m \u001b[32m━━━━━━━━━━━━━━━━━━━━\u001b[0m\u001b[37m\u001b[0m \u001b[1m8s\u001b[0m 4ms/step - accuracy: 0.8913 - loss: 0.2857 - val_accuracy: 0.8959 - val_loss: 0.2693\n"
          ]
        },
        {
          "output_type": "display_data",
          "data": {
            "text/plain": [
              "<Figure size 1200x500 with 2 Axes>"
            ],
            "image/png": "[encoded data removed]"
          },
          "metadata": {}
        }
      ]
    },
    {
      "cell_type": "code",
      "source": [
        "import seaborn as sns\n",
        "import matplotlib.pyplot as plt\n",
        "from sklearn.metrics import accuracy_score, precision_score, recall_score, f1_score, confusion_matrix\n",
        "\n",
        "# Assuming you have already made predictions and converted them to binary using y_pred_binary\n",
        "\n",
        "# Calculate confusion matrix\n",
        "conf_matrix = confusion_matrix(y_test, y_pred_binary)\n",
        "\n",
        "#conf_matrix = confusion_matrix(y_test, y_pred_binary)\n",
        "sns.heatmap(conf_matrix, annot=True, fmt='d', cmap='Blues', xticklabels=['Negative', 'Positive'], yticklabels=['Negative', 'Positive'])\n",
        "plt.xlabel('Predicted Labels')\n",
        "plt.ylabel('True Labels')\n",
        "plt.show()\n"
      ],
      "metadata": {
        "execution": {
          "iopub.status.busy": "2023-08-02T13:54:12.727885Z",
          "iopub.execute_input": "2023-08-02T13:54:12.728994Z",
          "iopub.status.idle": "2023-08-02T13:54:13.119029Z",
          "shell.execute_reply.started": "2023-08-02T13:54:12.728956Z",
          "shell.execute_reply": "2023-08-02T13:54:13.115996Z"
        },
        "trusted": true,
        "id": "Ft-uAUDbbW60",
        "outputId": "4cb584e2-bb88-4ae7-ef5f-eb514bb0dd30",
        "colab": {
          "base_uri": "https://localhost:8080/",
          "height": 449
        }
      },
      "execution_count": null,
      "outputs": [
        {
          "output_type": "display_data",
          "data": {
            "text/plain": [
              "<Figure size 640x480 with 2 Axes>"
            ],
            "image/png": "[encoded data removed]"
          },
          "metadata": {}
        }
      ]
    },
    {
      "cell_type": "markdown",
      "source": [
        "# LSTM"
      ],
      "metadata": {
        "id": "FpscH0gwbW63"
      }
    },
    {
      "cell_type": "code",
      "source": [
        "import pandas as pd\n",
        "import numpy as np\n",
        "import tensorflow as tf\n",
        "from sklearn.model_selection import train_test_split\n",
        "from tensorflow.keras.models import Sequential\n",
        "from tensorflow.keras.layers import LSTM, Dense\n",
        "from sklearn.metrics import accuracy_score, precision_score, recall_score, f1_score\n",
        "# Specify the features (based on your column names)\n",
        "features = [\n",
        "    'aa_000', 'ac_000', 'ad_000', 'ae_000', 'af_000', 'ag_000',\n",
        "    'ag_001', 'ag_002', 'ag_003', 'ee_002', 'ee_003', 'ee_004',\n",
        "    'ee_005', 'ee_006', 'ee_007', 'ee_008', 'ee_009', 'ef_000',\n",
        "    'eg_000'\n",
        "]\n",
        "\n",
        "# Specify the label (target column)\n",
        "label = ['class']\n",
        "\n",
        "X = resampled_data[features].values\n",
        "y = resampled_data[label].values\n",
        "# Step 2: Preprocess the data (scaling, normalization, etc.)\n",
        "# You can perform scaling, normalization, or any other preprocessing based on your data characteristics and requirements.\n",
        "\n",
        "# Step 3: Split the data into training and testing sets\n",
        "X_train, X_test, y_train, y_test = train_test_split(X, y, test_size=0.2, random_state=42)\n",
        "\n",
        "# Reshape input data for LSTM\n",
        "n_timesteps = 1  # Since there is no time step dimension, set it to 1\n",
        "n_features = X_train.shape[1]\n",
        "\n",
        "X_train = X_train.reshape((X_train.shape[0], n_timesteps, n_features))\n",
        "X_test = X_test.reshape((X_test.shape[0], n_timesteps, n_features))\n",
        "\n",
        "# Step 4: Create the LSTM model\n",
        "model = Sequential()\n",
        "model.add(LSTM(64, activation='relu', input_shape=(n_timesteps, n_features)))\n",
        "model.add(Dense(1, activation='sigmoid'))  # For binary classification\n",
        "\n",
        "# Step 5: Compile the model\n",
        "model.compile(optimizer='adam', loss='binary_crossentropy', metrics=['accuracy'])\n",
        "\n",
        "# Step 6: Train the model on the training data\n",
        "model.fit(X_train, y_train, epochs=15, batch_size=32)\n",
        "\n",
        "# Step 7: Evaluate the model on the testing data\n",
        "loss, accuracy = model.evaluate(X_test, y_test)\n",
        "print(\"Test accuracy:\", accuracy)\n",
        "\n",
        "# Step 8: Make predictions using the trained model\n",
        "y_pred = model.predict(X_test)\n",
        "\n",
        "# Convert probabilities to binary predictions (0 or 1)\n",
        "y_pred_binary = np.round(y_pred)\n",
        "\n",
        "# Calculate precision, recall, and F1 score\n",
        "precision = precision_score(y_test, y_pred_binary)\n",
        "recall = recall_score(y_test, y_pred_binary)\n",
        "f1 = f1_score(y_test, y_pred_binary)\n",
        "\n",
        "print(\"Precision:\", precision)\n",
        "print(\"Recall:\", recall)\n",
        "print(\"F1 Score:\", f1)\n"
      ],
      "metadata": {
        "execution": {
          "iopub.status.busy": "2023-08-02T13:54:13.121287Z",
          "iopub.execute_input": "2023-08-02T13:54:13.122197Z"
        },
        "trusted": true,
        "id": "LQEjr0EZbW63",
        "outputId": "cf48859a-e8be-4e3b-c96d-3caa41fc61d0",
        "colab": {
          "base_uri": "https://localhost:8080/"
        }
      },
      "execution_count": null,
      "outputs": [
        {
          "output_type": "stream",
          "name": "stderr",
          "text": [
            "/usr/local/lib/python3.10/dist-packages/keras/src/layers/rnn/rnn.py:204: UserWarning: Do not pass an `input_shape`/`input_dim` argument to a layer. When using Sequential models, prefer using an `Input(shape)` object as the first layer in the model instead.\n",
            "  super().__init__(**kwargs)\n"
          ]
        },
        {
          "output_type": "stream",
          "name": "stdout",
          "text": [
            "Epoch 1/15\n",
            "\u001b[1m2361/2361\u001b[0m \u001b[32m━━━━━━━━━━━━━━━━━━━━\u001b[0m\u001b[37m\u001b[0m \u001b[1m11s\u001b[0m 3ms/step - accuracy: 0.6468 - loss: 594049.3750\n",
            "Epoch 2/15\n",
            "\u001b[1m2361/2361\u001b[0m \u001b[32m━━━━━━━━━━━━━━━━━━━━\u001b[0m\u001b[37m\u001b[0m \u001b[1m10s\u001b[0m 3ms/step - accuracy: 0.6360 - loss: 435.7296\n",
            "Epoch 3/15\n",
            "\u001b[1m2361/2361\u001b[0m \u001b[32m━━━━━━━━━━━━━━━━━━━━\u001b[0m\u001b[37m\u001b[0m \u001b[1m18s\u001b[0m 7ms/step - accuracy: 0.6389 - loss: 1.8532\n",
            "Epoch 4/15\n",
            "\u001b[1m2361/2361\u001b[0m \u001b[32m━━━━━━━━━━━━━━━━━━━━\u001b[0m\u001b[37m\u001b[0m \u001b[1m15s\u001b[0m 4ms/step - accuracy: 0.6093 - loss: 0.8000\n",
            "Epoch 5/15\n",
            "\u001b[1m2361/2361\u001b[0m \u001b[32m━━━━━━━━━━━━━━━━━━━━\u001b[0m\u001b[37m\u001b[0m \u001b[1m6s\u001b[0m 3ms/step - accuracy: 0.5944 - loss: 8.2140\n",
            "Epoch 6/15\n",
            "\u001b[1m2361/2361\u001b[0m \u001b[32m━━━━━━━━━━━━━━━━━━━━\u001b[0m\u001b[37m\u001b[0m \u001b[1m12s\u001b[0m 3ms/step - accuracy: 0.5497 - loss: 0.6957\n",
            "Epoch 7/15\n",
            "\u001b[1m2361/2361\u001b[0m \u001b[32m━━━━━━━━━━━━━━━━━━━━\u001b[0m\u001b[37m\u001b[0m \u001b[1m14s\u001b[0m 5ms/step - accuracy: 0.5546 - loss: 2.2020\n",
            "Epoch 8/15\n",
            "\u001b[1m2361/2361\u001b[0m \u001b[32m━━━━━━━━━━━━━━━━━━━━\u001b[0m\u001b[37m\u001b[0m \u001b[1m19s\u001b[0m 5ms/step - accuracy: 0.5556 - loss: 0.6905\n",
            "Epoch 9/15\n",
            "\u001b[1m2361/2361\u001b[0m \u001b[32m━━━━━━━━━━━━━━━━━━━━\u001b[0m\u001b[37m\u001b[0m \u001b[1m17s\u001b[0m 3ms/step - accuracy: 0.5593 - loss: 0.7070\n",
            "Epoch 10/15\n",
            "\u001b[1m2361/2361\u001b[0m \u001b[32m━━━━━━━━━━━━━━━━━━━━\u001b[0m\u001b[37m\u001b[0m \u001b[1m12s\u001b[0m 4ms/step - accuracy: 0.5570 - loss: 0.7285\n",
            "Epoch 11/15\n",
            "\u001b[1m2361/2361\u001b[0m \u001b[32m━━━━━━━━━━━━━━━━━━━━\u001b[0m\u001b[37m\u001b[0m \u001b[1m8s\u001b[0m 3ms/step - accuracy: 0.5587 - loss: 0.6748\n",
            "Epoch 12/15\n",
            "\u001b[1m2361/2361\u001b[0m \u001b[32m━━━━━━━━━━━━━━━━━━━━\u001b[0m\u001b[37m\u001b[0m \u001b[1m8s\u001b[0m 3ms/step - accuracy: 0.5525 - loss: 1.2418\n",
            "Epoch 13/15\n",
            "\u001b[1m2361/2361\u001b[0m \u001b[32m━━━━━━━━━━━━━━━━━━━━\u001b[0m\u001b[37m\u001b[0m \u001b[1m9s\u001b[0m 3ms/step - accuracy: 0.5672 - loss: 1.8877\n",
            "Epoch 14/15\n",
            "\u001b[1m2361/2361\u001b[0m \u001b[32m━━━━━━━━━━━━━━━━━━━━\u001b[0m\u001b[37m\u001b[0m \u001b[1m10s\u001b[0m 3ms/step - accuracy: 0.5564 - loss: 2.5741\n",
            "Epoch 15/15\n",
            "\u001b[1m2361/2361\u001b[0m \u001b[32m━━━━━━━━━━━━━━━━━━━━\u001b[0m\u001b[37m\u001b[0m \u001b[1m11s\u001b[0m 3ms/step - accuracy: 0.5592 - loss: 1.1373\n",
            "\u001b[1m591/591\u001b[0m \u001b[32m━━━━━━━━━━━━━━━━━━━━\u001b[0m\u001b[37m\u001b[0m \u001b[1m1s\u001b[0m 1ms/step - accuracy: 0.5614 - loss: 0.6503\n",
            "Test accuracy: 0.5633571743965149\n",
            "\u001b[1m591/591\u001b[0m \u001b[32m━━━━━━━━━━━━━━━━━━━━\u001b[0m\u001b[37m\u001b[0m \u001b[1m1s\u001b[0m 2ms/step\n",
            "Precision: 0.5331219567432907\n",
            "Recall: 1.0\n",
            "F1 Score: 0.6954723391683285\n"
          ]
        }
      ]
    },
    {
      "cell_type": "code",
      "source": [
        "# Plot training & validation accuracy values\n",
        "plt.figure(figsize=(14, 5))\n",
        "plt.subplot(1, 2, 1)\n",
        "plt.plot(history.history['accuracy'], label='Train Accuracy')\n",
        "plt.plot(history.history['val_accuracy'], label='Test Accuracy')\n",
        "plt.title('Model Accuracy')\n",
        "plt.xlabel('Epoch')\n",
        "plt.ylabel('Accuracy')\n",
        "plt.legend(loc='upper left')"
      ],
      "metadata": {
        "colab": {
          "base_uri": "https://localhost:8080/",
          "height": 504
        },
        "id": "VBIZ7nyy1En-",
        "outputId": "569f115c-cc3c-4229-b2c3-8fe2709242b5"
      },
      "execution_count": null,
      "outputs": [
        {
          "output_type": "execute_result",
          "data": {
            "text/plain": [
              "<matplotlib.legend.Legend at 0x7fee059e5300>"
            ]
          },
          "metadata": {},
          "execution_count": 44
        },
        {
          "output_type": "display_data",
          "data": {
            "text/plain": [
              "<Figure size 1400x500 with 1 Axes>"
            ],
            "image/png": "[encoded data removed]"
          },
          "metadata": {}
        }
      ]
    },
    {
      "cell_type": "code",
      "source": [
        "import seaborn as sns\n",
        "import matplotlib.pyplot as plt\n",
        "from sklearn.metrics import accuracy_score, precision_score, recall_score, f1_score, confusion_matrix\n",
        "\n",
        "# Assuming you have already made predictions and converted them to binary using y_pred_binary\n",
        "\n",
        "# Calculate confusion matrix\n",
        "conf_matrix = confusion_matrix(y_test, y_pred_binary)\n",
        "\n",
        "#conf_matrix = confusion_matrix(y_test, y_pred_binary)\n",
        "sns.heatmap(conf_matrix, annot=True, fmt='d', cmap='Blues', xticklabels=['Negative', 'Positive'], yticklabels=['Negative', 'Positive'])\n",
        "plt.xlabel('Predicted Labels')\n",
        "plt.ylabel('True Labels')\n",
        "plt.show()"
      ],
      "metadata": {
        "colab": {
          "base_uri": "https://localhost:8080/",
          "height": 449
        },
        "id": "JqDoKZ6i1efJ",
        "outputId": "7d6db6d6-09ad-476d-b98d-22b38c295183"
      },
      "execution_count": null,
      "outputs": [
        {
          "output_type": "display_data",
          "data": {
            "text/plain": [
              "<Figure size 640x480 with 2 Axes>"
            ],
            "image/png": "[encoded data removed]"
          },
          "metadata": {}
        }
      ]
    },
    {
      "cell_type": "markdown",
      "source": [
        "#**SVM**"
      ],
      "metadata": {
        "id": "SIS9XSDx0jk9"
      }
    },
    {
      "cell_type": "code",
      "source": [],
      "metadata": {
        "id": "bIyQP9JE0qBT"
      },
      "execution_count": null,
      "outputs": []
    },
    {
      "cell_type": "markdown",
      "source": [
        "#**DTC**"
      ],
      "metadata": {
        "id": "8tPr_mqP7OKF"
      }
    },
    {
      "cell_type": "code",
      "source": [
        "# Initialize and fit the DTC model\n",
        "dtc_model = DecisionTreeClassifier(random_state=42)\n",
        "dtc_model.fit(X_train_resampled, y_train_resampled)\n",
        "\n",
        "# Make predictions\n",
        "y_pred_dtc = dtc_model.predict(X_test_scaled)\n",
        "\n",
        "# Print classification report\n",
        "print(\"DTC Classification Report:\\n\", classification_report(y_test, y_pred_dtc))\n",
        "\n",
        "# Calculate and print accuracy\n",
        "accuracy = accuracy_score(y_test, y_pred_dtc)\n",
        "print(f\"DTC Model Accuracy: {(accuracy*100):.2f}%\")"
      ],
      "metadata": {
        "id": "Q3GRs7Kt0qFn"
      },
      "execution_count": null,
      "outputs": []
    },
    {
      "cell_type": "markdown",
      "source": [
        "#**KNN**"
      ],
      "metadata": {
        "id": "3nZQHXDR8p0H"
      }
    },
    {
      "cell_type": "code",
      "source": [
        "# Initialize and fit the KNN model\n",
        "knn_model = KNeighborsClassifier(n_neighbors=5)  # You can tune n_neighbors\n",
        "knn_model.fit(X_train_resampled, y_train_resampled)\n",
        "\n",
        "# Make predictions\n",
        "y_pred_knn = knn_model.predict(X_test_scaled)\n",
        "\n",
        "# Print classification report\n",
        "print(\"KNN Classification Report:\\n\", classification_report(y_test, y_pred_knn))\n",
        "\n",
        "# Calculate and print accuracy\n",
        "accuracy = accuracy_score(y_test, y_pred_knn)\n",
        "print(f\"KNN Model Accuracy: {(accuracy*100):.2f}%\")"
      ],
      "metadata": {
        "id": "ZC2leupv8uWO"
      },
      "execution_count": null,
      "outputs": []
    },
    {
      "cell_type": "code",
      "source": [
        "import seaborn as sns\n",
        "import matplotlib.pyplot as plt\n",
        "from sklearn.metrics import accuracy_score, precision_score, recall_score, f1_score, confusion_matrix\n",
        "\n",
        "# Assuming you have already made predictions and converted them to binary using y_pred_binary\n",
        "\n",
        "# Calculate confusion matrix\n",
        "conf_matrix = confusion_matrix(y_test, y_pred_binary)\n",
        "\n",
        "#conf_matrix = confusion_matrix(y_test, y_pred_binary)\n",
        "sns.heatmap(conf_matrix, annot=True, fmt='d', cmap='Blues', xticklabels=['Negative', 'Positive'], yticklabels=['Negative', 'Positive'])\n",
        "plt.xlabel('Predicted Labels')\n",
        "plt.ylabel('True Labels')\n",
        "plt.show()\n"
      ],
      "metadata": {
        "trusted": true,
        "id": "EZJ-6hWdbW64"
      },
      "execution_count": null,
      "outputs": []
    },
    {
      "cell_type": "markdown",
      "source": [
        "# CNN On Generated Data"
      ],
      "metadata": {
        "id": "cbR_P8n7bW65"
      }
    },
    {
      "cell_type": "code",
      "source": [
        "fake_data = pd.read_csv('/kaggle/input/generated-data/fake_data.csv')\n",
        "fake_data.head()"
      ],
      "metadata": {
        "trusted": true,
        "id": "O6_-CdItbW65"
      },
      "execution_count": null,
      "outputs": []
    },
    {
      "cell_type": "code",
      "source": [
        "fake_data.shape"
      ],
      "metadata": {
        "trusted": true,
        "id": "YbHMB-CFbW65"
      },
      "execution_count": null,
      "outputs": []
    },
    {
      "cell_type": "code",
      "source": [
        "pip install tensorflow\n"
      ],
      "metadata": {
        "trusted": true,
        "id": "41arUxkibW65"
      },
      "execution_count": null,
      "outputs": []
    },
    {
      "cell_type": "code",
      "source": [
        "features = ['UDI','Air temperature [K]', 'Process temperature [K]',\n",
        "       'Rotational speed [rpm]', 'Torque [Nm]', 'Tool wear [min]', 'TWF', 'HDF', 'RNF','OSF','PWF']\n",
        "\n",
        "label = ['Machine Failure']\n",
        "X = fake_data[features]\n",
        "y = fake_data[label]\n"
      ],
      "metadata": {
        "trusted": true,
        "id": "JUNDKXombW65"
      },
      "execution_count": null,
      "outputs": []
    },
    {
      "cell_type": "code",
      "source": [
        "import pandas as pd\n",
        "from imblearn.over_sampling import SMOTE\n",
        "\n",
        "features = ['UDI','Air temperature [K]', 'Process temperature [K]',\n",
        "       'Rotational speed [rpm]', 'Torque [Nm]', 'Tool wear [min]', 'TWF', 'HDF', 'RNF','OSF','PWF']\n",
        "\n",
        "label = ['Machine Failure']\n",
        "X = fake_data[features]\n",
        "y = fake_data[label]\n",
        "\n",
        "# Import train_test_split to split the data into training and testing sets\n",
        "from sklearn.model_selection import train_test_split\n",
        "\n",
        "# Split the data into training and testing sets (adjust the test_size as needed)\n",
        "X_train, X_test, y_train, y_test = train_test_split(X, y, test_size=0.2, random_state=42)\n",
        "\n",
        "# Apply SMOTE to the training set\n",
        "smote = SMOTE(random_state=42)\n",
        "X_train_resampled, y_train_resampled = smote.fit_resample(X_train, y_train)\n",
        "\n",
        "# Combine X_train_resampled and y_train_resampled into a single DataFrame\n",
        "resampled_data1 = pd.concat([pd.DataFrame(X_train_resampled, columns=X_train.columns), pd.DataFrame(y_train_resampled, columns=['Machine Failure'])], axis=1)\n",
        "\n",
        "# Check the class distribution before and after SMOTE\n",
        "print(\"Class Distribution Before SMOTE:\")\n",
        "print(y_train.value_counts().to_frame())\n",
        "\n",
        "print(\"\\nClass Distribution After SMOTE:\")\n",
        "print(resampled_data1['Machine Failure'].value_counts().to_frame())"
      ],
      "metadata": {
        "trusted": true,
        "id": "WoU8KCr0bW66"
      },
      "execution_count": null,
      "outputs": []
    },
    {
      "cell_type": "code",
      "source": [
        "resampled_data1.shape"
      ],
      "metadata": {
        "trusted": true,
        "id": "IGM20F_obW66"
      },
      "execution_count": null,
      "outputs": []
    },
    {
      "cell_type": "markdown",
      "source": [
        "# CNN"
      ],
      "metadata": {
        "id": "SqPWsNembW66"
      }
    },
    {
      "cell_type": "code",
      "source": [
        "\n",
        "# Step 8: Make predictions using the trained model\n",
        "y_pred = model.predict(X_test)\n",
        "\n",
        "# Convert probabilities to binary predictions (0 or 1)\n",
        "y_pred_binary = np.round(y_pred)\n",
        "\n",
        "# Calculate precision, recall, and F1 score\n",
        "precision = precision_score(y_test, y_pred_binary)\n",
        "recall = recall_score(y_test, y_pred_binary)\n",
        "f1 = f1_score(y_test, y_pred_binary)\n",
        "\n",
        "print(\"Precision:\", precision)\n",
        "print(\"Recall:\", recall)\n",
        "print(\"F1 Score:\", f1)"
      ],
      "metadata": {
        "trusted": true,
        "id": "-jNn--BCbW67"
      },
      "execution_count": null,
      "outputs": []
    },
    {
      "cell_type": "code",
      "source": [
        "import seaborn as sns\n",
        "import matplotlib.pyplot as plt\n",
        "from sklearn.metrics import accuracy_score, precision_score, recall_score, f1_score, confusion_matrix\n",
        "\n",
        "# Assuming you have already made predictions and converted them to binary using y_pred_binary\n",
        "\n",
        "# Calculate confusion matrix\n",
        "conf_matrix = confusion_matrix(y_test, y_pred_binary)\n",
        "\n",
        "#conf_matrix = confusion_matrix(y_test, y_pred_binary)\n",
        "sns.heatmap(conf_matrix, annot=True, fmt='d', cmap='Blues', xticklabels=['Negative', 'Positive'], yticklabels=['Negative', 'Positive'])\n",
        "plt.xlabel('Predicted Labels')\n",
        "plt.ylabel('True Labels')\n",
        "plt.show()\n"
      ],
      "metadata": {
        "trusted": true,
        "id": "Xgd02AAFbW67"
      },
      "execution_count": null,
      "outputs": []
    },
    {
      "cell_type": "markdown",
      "source": [
        "# LSTM"
      ],
      "metadata": {
        "id": "1JTlkmfWbW68"
      }
    },
    {
      "cell_type": "code",
      "source": [
        "import pandas as pd\n",
        "import numpy as np\n",
        "import tensorflow as tf\n",
        "from sklearn.model_selection import train_test_split\n",
        "from tensorflow.keras.models import Sequential\n",
        "from tensorflow.keras.layers import LSTM, Dense\n",
        "from sklearn.metrics import accuracy_score, precision_score, recall_score, f1_score\n",
        "\n",
        "# Assuming your dataset has a 'Machine failure' column as the target (label) and the rest are features\n",
        "features = ['UDI', 'Air temperature [K]', 'Process temperature [K]',\n",
        "            'Rotational speed [rpm]', 'Torque [Nm]', 'Tool wear [min]', 'TWF', 'HDF', 'RNF', 'OSF', 'PWF']\n",
        "label = ['Machine Failure']\n",
        "\n",
        "X = resampled_data1[features].values\n",
        "y = resampled_data1[label].values\n",
        "# Step 2: Preprocess the data (scaling, normalization, etc.)\n",
        "# You can perform scaling, normalization, or any other preprocessing based on your data characteristics and requirements.\n",
        "\n",
        "# Step 3: Split the data into training and testing sets\n",
        "X_train, X_test, y_train, y_test = train_test_split(X, y, test_size=0.2, random_state=42)\n",
        "\n",
        "# Reshape input data for LSTM\n",
        "n_timesteps = 1  # Since there is no time step dimension, set it to 1\n",
        "n_features = X_train.shape[1]\n",
        "\n",
        "X_train = X_train.reshape((X_train.shape[0], n_timesteps, n_features))\n",
        "X_test = X_test.reshape((X_test.shape[0], n_timesteps, n_features))\n",
        "\n",
        "# Step 4: Create the LSTM model\n",
        "model = Sequential()\n",
        "model.add(LSTM(64, activation='relu', input_shape=(n_timesteps, n_features)))\n",
        "model.add(Dense(1, activation='sigmoid'))  # For binary classification\n",
        "\n",
        "# Step 5: Compile the model\n",
        "model.compile(optimizer='adam', loss='binary_crossentropy', metrics=['accuracy'])\n",
        "\n",
        "# Step 6: Train the model on the training data\n",
        "model.fit(X_train, y_train, epochs=10, batch_size=32)\n",
        "\n",
        "# Step 7: Evaluate the model on the testing data\n",
        "loss, accuracy = model.evaluate(X_test, y_test)\n",
        "print(\"Test accuracy:\", accuracy)\n",
        "\n",
        "# Step 8: Make predictions using the trained model\n",
        "y_pred = model.predict(X_test)\n",
        "\n",
        "# Convert probabilities to binary predictions (0 or 1)\n",
        "y_pred_binary = np.round(y_pred)\n",
        "\n",
        "# Calculate precision, recall, and F1 score\n",
        "precision = precision_score(y_test, y_pred_binary)\n",
        "recall = recall_score(y_test, y_pred_binary)\n",
        "f1 = f1_score(y_test, y_pred_binary)\n",
        "\n",
        "print(\"Precision:\", precision)\n",
        "print(\"Recall:\", recall)\n",
        "print(\"F1 Score:\", f1)\n"
      ],
      "metadata": {
        "trusted": true,
        "id": "YMTSdk9CbW68"
      },
      "execution_count": null,
      "outputs": []
    },
    {
      "cell_type": "code",
      "source": [
        "import seaborn as sns\n",
        "import matplotlib.pyplot as plt\n",
        "from sklearn.metrics import accuracy_score, precision_score, recall_score, f1_score, confusion_matrix\n",
        "\n",
        "# Assuming you have already made predictions and converted them to binary using y_pred_binary\n",
        "\n",
        "# Calculate confusion matrix\n",
        "conf_matrix = confusion_matrix(y_test, y_pred_binary)\n",
        "\n",
        "#conf_matrix = confusion_matrix(y_test, y_pred_binary)\n",
        "sns.heatmap(conf_matrix, annot=True, fmt='d', cmap='Blues', xticklabels=['Negative', 'Positive'], yticklabels=['Negative', 'Positive'])\n",
        "plt.xlabel('Predicted Labels')\n",
        "plt.ylabel('True Labels')\n",
        "plt.show()"
      ],
      "metadata": {
        "trusted": true,
        "id": "z8OXpiazbW68"
      },
      "execution_count": null,
      "outputs": []
    },
    {
      "cell_type": "code",
      "source": [],
      "metadata": {
        "id": "sz4rkGr7bW68"
      },
      "execution_count": null,
      "outputs": []
    }
  ]
}