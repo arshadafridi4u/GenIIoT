{
  "cells": [
    {
      "cell_type": "code",
      "execution_count": null,
      "id": "5284f4a8",
      "metadata": {
        "scrolled": true,
        "id": "5284f4a8"
      },
      "outputs": [],
      "source": [
        "import numpy as np\n",
        "import pandas as pd"
      ]
    },
    {
      "cell_type": "code",
      "execution_count": null,
      "id": "d5adf8e1",
      "metadata": {
        "id": "d5adf8e1",
        "outputId": "f61adc53-f49a-4aab-ade8-76e6f87ead0d"
      },
      "outputs": [
        {
          "data": {
            "text/html": [
              "<div>\n",
              "<style scoped>\n",
              "    .dataframe tbody tr th:only-of-type {\n",
              "        vertical-align: middle;\n",
              "    }\n",
              "\n",
              "    .dataframe tbody tr th {\n",
              "        vertical-align: top;\n",
              "    }\n",
              "\n",
              "    .dataframe thead th {\n",
              "        text-align: right;\n",
              "    }\n",
              "</style>\n",
              "<table border=\"1\" class=\"dataframe\">\n",
              "  <thead>\n",
              "    <tr style=\"text-align: right;\">\n",
              "      <th></th>\n",
              "      <th>class</th>\n",
              "      <th>aa_000</th>\n",
              "      <th>ab_000</th>\n",
              "      <th>ac_000</th>\n",
              "      <th>ad_000</th>\n",
              "      <th>ae_000</th>\n",
              "      <th>af_000</th>\n",
              "      <th>ag_000</th>\n",
              "      <th>ag_001</th>\n",
              "      <th>ag_002</th>\n",
              "      <th>...</th>\n",
              "      <th>ee_002</th>\n",
              "      <th>ee_003</th>\n",
              "      <th>ee_004</th>\n",
              "      <th>ee_005</th>\n",
              "      <th>ee_006</th>\n",
              "      <th>ee_007</th>\n",
              "      <th>ee_008</th>\n",
              "      <th>ee_009</th>\n",
              "      <th>ef_000</th>\n",
              "      <th>eg_000</th>\n",
              "    </tr>\n",
              "  </thead>\n",
              "  <tbody>\n",
              "    <tr>\n",
              "      <th>0</th>\n",
              "      <td>neg</td>\n",
              "      <td>76698</td>\n",
              "      <td>na</td>\n",
              "      <td>2130706438</td>\n",
              "      <td>280</td>\n",
              "      <td>0</td>\n",
              "      <td>0</td>\n",
              "      <td>0</td>\n",
              "      <td>0</td>\n",
              "      <td>0</td>\n",
              "      <td>...</td>\n",
              "      <td>1240520</td>\n",
              "      <td>493384</td>\n",
              "      <td>721044</td>\n",
              "      <td>469792</td>\n",
              "      <td>339156</td>\n",
              "      <td>157956</td>\n",
              "      <td>73224</td>\n",
              "      <td>0</td>\n",
              "      <td>0</td>\n",
              "      <td>0</td>\n",
              "    </tr>\n",
              "    <tr>\n",
              "      <th>1</th>\n",
              "      <td>neg</td>\n",
              "      <td>33058</td>\n",
              "      <td>na</td>\n",
              "      <td>0</td>\n",
              "      <td>na</td>\n",
              "      <td>0</td>\n",
              "      <td>0</td>\n",
              "      <td>0</td>\n",
              "      <td>0</td>\n",
              "      <td>0</td>\n",
              "      <td>...</td>\n",
              "      <td>421400</td>\n",
              "      <td>178064</td>\n",
              "      <td>293306</td>\n",
              "      <td>245416</td>\n",
              "      <td>133654</td>\n",
              "      <td>81140</td>\n",
              "      <td>97576</td>\n",
              "      <td>1500</td>\n",
              "      <td>0</td>\n",
              "      <td>0</td>\n",
              "    </tr>\n",
              "    <tr>\n",
              "      <th>2</th>\n",
              "      <td>neg</td>\n",
              "      <td>41040</td>\n",
              "      <td>na</td>\n",
              "      <td>228</td>\n",
              "      <td>100</td>\n",
              "      <td>0</td>\n",
              "      <td>0</td>\n",
              "      <td>0</td>\n",
              "      <td>0</td>\n",
              "      <td>0</td>\n",
              "      <td>...</td>\n",
              "      <td>277378</td>\n",
              "      <td>159812</td>\n",
              "      <td>423992</td>\n",
              "      <td>409564</td>\n",
              "      <td>320746</td>\n",
              "      <td>158022</td>\n",
              "      <td>95128</td>\n",
              "      <td>514</td>\n",
              "      <td>0</td>\n",
              "      <td>0</td>\n",
              "    </tr>\n",
              "    <tr>\n",
              "      <th>3</th>\n",
              "      <td>neg</td>\n",
              "      <td>12</td>\n",
              "      <td>0</td>\n",
              "      <td>70</td>\n",
              "      <td>66</td>\n",
              "      <td>0</td>\n",
              "      <td>10</td>\n",
              "      <td>0</td>\n",
              "      <td>0</td>\n",
              "      <td>0</td>\n",
              "      <td>...</td>\n",
              "      <td>240</td>\n",
              "      <td>46</td>\n",
              "      <td>58</td>\n",
              "      <td>44</td>\n",
              "      <td>10</td>\n",
              "      <td>0</td>\n",
              "      <td>0</td>\n",
              "      <td>0</td>\n",
              "      <td>4</td>\n",
              "      <td>32</td>\n",
              "    </tr>\n",
              "    <tr>\n",
              "      <th>4</th>\n",
              "      <td>neg</td>\n",
              "      <td>60874</td>\n",
              "      <td>na</td>\n",
              "      <td>1368</td>\n",
              "      <td>458</td>\n",
              "      <td>0</td>\n",
              "      <td>0</td>\n",
              "      <td>0</td>\n",
              "      <td>0</td>\n",
              "      <td>0</td>\n",
              "      <td>...</td>\n",
              "      <td>622012</td>\n",
              "      <td>229790</td>\n",
              "      <td>405298</td>\n",
              "      <td>347188</td>\n",
              "      <td>286954</td>\n",
              "      <td>311560</td>\n",
              "      <td>433954</td>\n",
              "      <td>1218</td>\n",
              "      <td>0</td>\n",
              "      <td>0</td>\n",
              "    </tr>\n",
              "  </tbody>\n",
              "</table>\n",
              "<p>5 rows × 171 columns</p>\n",
              "</div>"
            ],
            "text/plain": [
              "  class  aa_000 ab_000      ac_000 ad_000 ae_000 af_000 ag_000 ag_001 ag_002  \\\n",
              "0   neg   76698     na  2130706438    280      0      0      0      0      0   \n",
              "1   neg   33058     na           0     na      0      0      0      0      0   \n",
              "2   neg   41040     na         228    100      0      0      0      0      0   \n",
              "3   neg      12      0          70     66      0     10      0      0      0   \n",
              "4   neg   60874     na        1368    458      0      0      0      0      0   \n",
              "\n",
              "   ...   ee_002  ee_003  ee_004  ee_005  ee_006  ee_007  ee_008 ee_009 ef_000  \\\n",
              "0  ...  1240520  493384  721044  469792  339156  157956   73224      0      0   \n",
              "1  ...   421400  178064  293306  245416  133654   81140   97576   1500      0   \n",
              "2  ...   277378  159812  423992  409564  320746  158022   95128    514      0   \n",
              "3  ...      240      46      58      44      10       0       0      0      4   \n",
              "4  ...   622012  229790  405298  347188  286954  311560  433954   1218      0   \n",
              "\n",
              "  eg_000  \n",
              "0      0  \n",
              "1      0  \n",
              "2      0  \n",
              "3     32  \n",
              "4      0  \n",
              "\n",
              "[5 rows x 171 columns]"
            ]
          },
          "execution_count": 87,
          "metadata": {},
          "output_type": "execute_result"
        }
      ],
      "source": [
        "df = pd.read_csv(r\"C:\\Users\\masha\\Downloads\\mam isra\\aps_failure_set.csv\")\n",
        "df.head(5)"
      ]
    },
    {
      "cell_type": "code",
      "execution_count": null,
      "id": "44519937",
      "metadata": {
        "id": "44519937",
        "outputId": "73bfd0e3-9c7d-4a2d-8ffd-8b62174472a3"
      },
      "outputs": [
        {
          "data": {
            "text/plain": [
              "(60000, 171)"
            ]
          },
          "execution_count": 88,
          "metadata": {},
          "output_type": "execute_result"
        }
      ],
      "source": [
        "df.shape"
      ]
    },
    {
      "cell_type": "code",
      "execution_count": null,
      "id": "c04b25d3",
      "metadata": {
        "id": "c04b25d3"
      },
      "outputs": [],
      "source": [
        "df.replace(\"na\", np.nan, inplace=True)"
      ]
    },
    {
      "cell_type": "code",
      "execution_count": null,
      "id": "abd10ae6",
      "metadata": {
        "id": "abd10ae6",
        "outputId": "e38e0a62-58ab-4ecd-f501-5b76db4c8d8b"
      },
      "outputs": [
        {
          "name": "stdout",
          "output_type": "stream",
          "text": [
            "Null values in each column:\n",
            " class         0\n",
            "aa_000        0\n",
            "ab_000    46329\n",
            "ac_000     3335\n",
            "ad_000    14861\n",
            "          ...  \n",
            "ee_007      671\n",
            "ee_008      671\n",
            "ee_009      671\n",
            "ef_000     2724\n",
            "eg_000     2723\n",
            "Length: 171, dtype: int64\n"
          ]
        }
      ],
      "source": [
        "null_counts = df.isnull().sum()\n",
        "print(\"Null values in each column:\\n\", null_counts)"
      ]
    },
    {
      "cell_type": "code",
      "source": [],
      "metadata": {
        "id": "7l14odAPs4df"
      },
      "id": "7l14odAPs4df",
      "execution_count": null,
      "outputs": []
    },
    {
      "cell_type": "code",
      "execution_count": null,
      "id": "4b1fc64a",
      "metadata": {
        "id": "4b1fc64a",
        "outputId": "b3baf23c-da0a-45d9-cea0-1feca430184a"
      },
      "outputs": [
        {
          "name": "stdout",
          "output_type": "stream",
          "text": [
            "Sum of null values in each column (descending order):\n",
            "br_000: 49264 null values\n",
            "bq_000: 48722 null values\n",
            "bp_000: 47740 null values\n",
            "bo_000: 46333 null values\n",
            "ab_000: 46329 null values\n",
            "cr_000: 46329 null values\n",
            "bn_000: 44009 null values\n",
            "bm_000: 39549 null values\n",
            "bl_000: 27277 null values\n",
            "bk_000: 23034 null values\n",
            "ch_000: 14861 null values\n",
            "co_000: 14861 null values\n",
            "cg_000: 14861 null values\n",
            "cf_000: 14861 null values\n",
            "ad_000: 14861 null values\n",
            "ct_000: 13808 null values\n",
            "cu_000: 13808 null values\n",
            "cv_000: 13808 null values\n",
            "cx_000: 13808 null values\n",
            "cy_000: 13808 null values\n",
            "cz_000: 13808 null values\n",
            "da_000: 13808 null values\n",
            "db_000: 13808 null values\n",
            "dc_000: 13808 null values\n",
            "ec_00: 10239 null values\n",
            "cm_000: 9877 null values\n",
            "ed_000: 9553 null values\n",
            "cl_000: 9553 null values\n",
            "ak_000: 4400 null values\n",
            "ca_000: 4356 null values\n",
            "dm_000: 4009 null values\n",
            "dh_000: 4008 null values\n",
            "dg_000: 4008 null values\n",
            "df_000: 4008 null values\n",
            "dl_000: 4008 null values\n",
            "eb_000: 4007 null values\n",
            "dk_000: 4007 null values\n",
            "dj_000: 4007 null values\n",
            "di_000: 4006 null values\n",
            "ac_000: 3335 null values\n",
            "bx_000: 3257 null values\n",
            "cc_000: 3255 null values\n",
            "ds_000: 2727 null values\n",
            "bd_000: 2727 null values\n",
            "dt_000: 2727 null values\n",
            "dr_000: 2726 null values\n",
            "dq_000: 2726 null values\n",
            "du_000: 2726 null values\n",
            "dv_000: 2726 null values\n",
            "dp_000: 2726 null values\n",
            "bc_000: 2725 null values\n",
            "cp_000: 2724 null values\n",
            "do_000: 2724 null values\n",
            "dy_000: 2724 null values\n",
            "ef_000: 2724 null values\n",
            "de_000: 2724 null values\n",
            "bz_000: 2723 null values\n",
            "dx_000: 2723 null values\n",
            "eg_000: 2723 null values\n",
            "ea_000: 2723 null values\n",
            "ar_000: 2723 null values\n",
            "dz_000: 2723 null values\n",
            "dd_000: 2503 null values\n",
            "be_000: 2503 null values\n",
            "ce_000: 2502 null values\n",
            "ax_000: 2501 null values\n",
            "bf_000: 2500 null values\n",
            "av_000: 2500 null values\n",
            "af_000: 2500 null values\n",
            "ae_000: 2500 null values\n",
            "bs_000: 726 null values\n",
            "cb_000: 726 null values\n",
            "cq_000: 691 null values\n",
            "dn_000: 691 null values\n",
            "bv_000: 691 null values\n",
            "bu_000: 691 null values\n",
            "ba_003: 688 null values\n",
            "ba_008: 688 null values\n",
            "ba_002: 688 null values\n",
            "ba_004: 688 null values\n",
            "ba_005: 688 null values\n",
            "ba_006: 688 null values\n",
            "ba_000: 688 null values\n",
            "ba_007: 688 null values\n",
            "ba_009: 688 null values\n",
            "ba_001: 688 null values\n",
            "cn_005: 687 null values\n",
            "cn_007: 687 null values\n",
            "cn_004: 687 null values\n",
            "cn_000: 687 null values\n",
            "cn_008: 687 null values\n",
            "cn_009: 687 null values\n",
            "cn_001: 687 null values\n",
            "cn_006: 687 null values\n",
            "cn_003: 687 null values\n",
            "cn_002: 687 null values\n",
            "cd_000: 676 null values\n",
            "ag_008: 671 null values\n",
            "az_002: 671 null values\n",
            "ag_007: 671 null values\n",
            "ag_006: 671 null values\n",
            "ag_005: 671 null values\n",
            "ag_004: 671 null values\n",
            "ay_008: 671 null values\n",
            "az_001: 671 null values\n",
            "az_000: 671 null values\n",
            "ay_009: 671 null values\n",
            "ag_002: 671 null values\n",
            "ay_007: 671 null values\n",
            "ay_006: 671 null values\n",
            "ay_005: 671 null values\n",
            "ay_004: 671 null values\n",
            "ay_003: 671 null values\n",
            "ay_002: 671 null values\n",
            "ay_001: 671 null values\n",
            "ag_003: 671 null values\n",
            "ee_004: 671 null values\n",
            "ag_001: 671 null values\n",
            "ag_000: 671 null values\n",
            "ee_003: 671 null values\n",
            "ee_002: 671 null values\n",
            "ee_001: 671 null values\n",
            "ee_005: 671 null values\n",
            "ee_009: 671 null values\n",
            "az_009: 671 null values\n",
            "ee_008: 671 null values\n",
            "ee_007: 671 null values\n",
            "ee_006: 671 null values\n",
            "az_008: 671 null values\n",
            "az_007: 671 null values\n",
            "ag_009: 671 null values\n",
            "az_006: 671 null values\n",
            "az_005: 671 null values\n",
            "az_004: 671 null values\n",
            "az_003: 671 null values\n",
            "ee_000: 671 null values\n",
            "ay_000: 671 null values\n",
            "cs_006: 669 null values\n",
            "cs_008: 669 null values\n",
            "cs_005: 669 null values\n",
            "cs_000: 669 null values\n",
            "cs_001: 669 null values\n",
            "cs_002: 669 null values\n",
            "cs_009: 669 null values\n",
            "cs_003: 669 null values\n",
            "cs_007: 669 null values\n",
            "cs_004: 669 null values\n",
            "bb_000: 645 null values\n",
            "ah_000: 645 null values\n",
            "bh_000: 642 null values\n",
            "ap_000: 642 null values\n",
            "bg_000: 642 null values\n",
            "an_000: 642 null values\n",
            "al_000: 642 null values\n",
            "at_000: 629 null values\n",
            "as_000: 629 null values\n",
            "au_000: 629 null values\n",
            "ai_000: 629 null values\n",
            "aj_000: 629 null values\n",
            "am_0: 629 null values\n",
            "bi_000: 589 null values\n",
            "ao_000: 589 null values\n",
            "aq_000: 589 null values\n",
            "bj_000: 589 null values\n",
            "by_000: 473 null values\n",
            "ck_000: 338 null values\n",
            "cj_000: 338 null values\n",
            "ci_000: 338 null values\n",
            "bt_000: 167 null values\n",
            "aa_000: 0 null values\n",
            "class: 0 null values\n"
          ]
        }
      ],
      "source": [
        "# Calculate the sum of null values for each column\n",
        "null_counts = df.isnull().sum()\n",
        "\n",
        "# Sort the null counts in descending order\n",
        "sorted_null_counts = null_counts.sort_values(ascending=False)\n",
        "\n",
        "# Display the sum of null values for each column in descending order\n",
        "print(\"Sum of null values in each column (descending order):\")\n",
        "for col, count in sorted_null_counts.items():\n",
        "    print(f\"{col}: {count} null values\")"
      ]
    },
    {
      "cell_type": "code",
      "execution_count": null,
      "id": "7d27217a",
      "metadata": {
        "id": "7d27217a",
        "outputId": "0a52c3cf-c85c-4ad7-9e45-0e45b90d450b"
      },
      "outputs": [
        {
          "name": "stdout",
          "output_type": "stream",
          "text": [
            "br_000    82.106667\n",
            "bq_000    81.203333\n",
            "bp_000    79.566667\n",
            "bo_000    77.221667\n",
            "ab_000    77.215000\n",
            "            ...    \n",
            "cj_000     0.563333\n",
            "ci_000     0.563333\n",
            "bt_000     0.278333\n",
            "aa_000     0.000000\n",
            "class      0.000000\n",
            "Length: 171, dtype: float64\n"
          ]
        }
      ],
      "source": [
        "# Calculate null percentages\n",
        "null_percentages = df.isna().sum() / len(df) * 100\n",
        "\n",
        "# Sort and print in descending order\n",
        "null_percentages = null_percentages.sort_values(ascending=False)\n",
        "print(null_percentages)"
      ]
    },
    {
      "cell_type": "code",
      "execution_count": null,
      "id": "c636366d",
      "metadata": {
        "id": "c636366d"
      },
      "outputs": [],
      "source": [
        "# List of columns to drop\n",
        "columns_to_drop = ['br_000', 'bq_000', 'bp_000', 'bo_000', 'ab_000', 'cr_000', 'bn_000', 'bm_000']\n",
        "\n",
        "# Drop the columns\n",
        "df.drop(columns=columns_to_drop, inplace=True)"
      ]
    },
    {
      "cell_type": "code",
      "execution_count": null,
      "id": "4fed9d3d",
      "metadata": {
        "id": "4fed9d3d",
        "outputId": "98cf0082-a62b-4144-dcd6-29e5cfdf6e0e"
      },
      "outputs": [
        {
          "name": "stdout",
          "output_type": "stream",
          "text": [
            "Total number of null values in the DataFrame: 481740\n"
          ]
        }
      ],
      "source": [
        "total_nulls = df.isnull().sum().sum()\n",
        "print(\"Total number of null values in the DataFrame:\", total_nulls)"
      ]
    },
    {
      "cell_type": "code",
      "execution_count": null,
      "id": "0955a111",
      "metadata": {
        "id": "0955a111"
      },
      "outputs": [],
      "source": [
        "df['class'] = df['class'].replace({'neg': 0, 'pos': 1})"
      ]
    },
    {
      "cell_type": "code",
      "execution_count": null,
      "id": "07d63c23",
      "metadata": {
        "id": "07d63c23",
        "outputId": "c908e500-1ad8-4d5d-daa1-cc17d7d1a26d"
      },
      "outputs": [
        {
          "data": {
            "text/html": [
              "<div>\n",
              "<style scoped>\n",
              "    .dataframe tbody tr th:only-of-type {\n",
              "        vertical-align: middle;\n",
              "    }\n",
              "\n",
              "    .dataframe tbody tr th {\n",
              "        vertical-align: top;\n",
              "    }\n",
              "\n",
              "    .dataframe thead th {\n",
              "        text-align: right;\n",
              "    }\n",
              "</style>\n",
              "<table border=\"1\" class=\"dataframe\">\n",
              "  <thead>\n",
              "    <tr style=\"text-align: right;\">\n",
              "      <th></th>\n",
              "      <th>class</th>\n",
              "      <th>aa_000</th>\n",
              "      <th>ac_000</th>\n",
              "      <th>ad_000</th>\n",
              "      <th>ae_000</th>\n",
              "      <th>af_000</th>\n",
              "      <th>ag_000</th>\n",
              "      <th>ag_001</th>\n",
              "      <th>ag_002</th>\n",
              "      <th>ag_003</th>\n",
              "      <th>...</th>\n",
              "      <th>ee_002</th>\n",
              "      <th>ee_003</th>\n",
              "      <th>ee_004</th>\n",
              "      <th>ee_005</th>\n",
              "      <th>ee_006</th>\n",
              "      <th>ee_007</th>\n",
              "      <th>ee_008</th>\n",
              "      <th>ee_009</th>\n",
              "      <th>ef_000</th>\n",
              "      <th>eg_000</th>\n",
              "    </tr>\n",
              "  </thead>\n",
              "  <tbody>\n",
              "    <tr>\n",
              "      <th>0</th>\n",
              "      <td>0</td>\n",
              "      <td>76698</td>\n",
              "      <td>2130706438</td>\n",
              "      <td>280</td>\n",
              "      <td>0</td>\n",
              "      <td>0</td>\n",
              "      <td>0</td>\n",
              "      <td>0</td>\n",
              "      <td>0</td>\n",
              "      <td>0</td>\n",
              "      <td>...</td>\n",
              "      <td>1240520</td>\n",
              "      <td>493384</td>\n",
              "      <td>721044</td>\n",
              "      <td>469792</td>\n",
              "      <td>339156</td>\n",
              "      <td>157956</td>\n",
              "      <td>73224</td>\n",
              "      <td>0</td>\n",
              "      <td>0</td>\n",
              "      <td>0</td>\n",
              "    </tr>\n",
              "    <tr>\n",
              "      <th>1</th>\n",
              "      <td>0</td>\n",
              "      <td>33058</td>\n",
              "      <td>0</td>\n",
              "      <td>NaN</td>\n",
              "      <td>0</td>\n",
              "      <td>0</td>\n",
              "      <td>0</td>\n",
              "      <td>0</td>\n",
              "      <td>0</td>\n",
              "      <td>0</td>\n",
              "      <td>...</td>\n",
              "      <td>421400</td>\n",
              "      <td>178064</td>\n",
              "      <td>293306</td>\n",
              "      <td>245416</td>\n",
              "      <td>133654</td>\n",
              "      <td>81140</td>\n",
              "      <td>97576</td>\n",
              "      <td>1500</td>\n",
              "      <td>0</td>\n",
              "      <td>0</td>\n",
              "    </tr>\n",
              "    <tr>\n",
              "      <th>2</th>\n",
              "      <td>0</td>\n",
              "      <td>41040</td>\n",
              "      <td>228</td>\n",
              "      <td>100</td>\n",
              "      <td>0</td>\n",
              "      <td>0</td>\n",
              "      <td>0</td>\n",
              "      <td>0</td>\n",
              "      <td>0</td>\n",
              "      <td>0</td>\n",
              "      <td>...</td>\n",
              "      <td>277378</td>\n",
              "      <td>159812</td>\n",
              "      <td>423992</td>\n",
              "      <td>409564</td>\n",
              "      <td>320746</td>\n",
              "      <td>158022</td>\n",
              "      <td>95128</td>\n",
              "      <td>514</td>\n",
              "      <td>0</td>\n",
              "      <td>0</td>\n",
              "    </tr>\n",
              "    <tr>\n",
              "      <th>3</th>\n",
              "      <td>0</td>\n",
              "      <td>12</td>\n",
              "      <td>70</td>\n",
              "      <td>66</td>\n",
              "      <td>0</td>\n",
              "      <td>10</td>\n",
              "      <td>0</td>\n",
              "      <td>0</td>\n",
              "      <td>0</td>\n",
              "      <td>318</td>\n",
              "      <td>...</td>\n",
              "      <td>240</td>\n",
              "      <td>46</td>\n",
              "      <td>58</td>\n",
              "      <td>44</td>\n",
              "      <td>10</td>\n",
              "      <td>0</td>\n",
              "      <td>0</td>\n",
              "      <td>0</td>\n",
              "      <td>4</td>\n",
              "      <td>32</td>\n",
              "    </tr>\n",
              "    <tr>\n",
              "      <th>4</th>\n",
              "      <td>0</td>\n",
              "      <td>60874</td>\n",
              "      <td>1368</td>\n",
              "      <td>458</td>\n",
              "      <td>0</td>\n",
              "      <td>0</td>\n",
              "      <td>0</td>\n",
              "      <td>0</td>\n",
              "      <td>0</td>\n",
              "      <td>0</td>\n",
              "      <td>...</td>\n",
              "      <td>622012</td>\n",
              "      <td>229790</td>\n",
              "      <td>405298</td>\n",
              "      <td>347188</td>\n",
              "      <td>286954</td>\n",
              "      <td>311560</td>\n",
              "      <td>433954</td>\n",
              "      <td>1218</td>\n",
              "      <td>0</td>\n",
              "      <td>0</td>\n",
              "    </tr>\n",
              "  </tbody>\n",
              "</table>\n",
              "<p>5 rows × 163 columns</p>\n",
              "</div>"
            ],
            "text/plain": [
              "   class  aa_000      ac_000 ad_000 ae_000 af_000 ag_000 ag_001 ag_002 ag_003  \\\n",
              "0      0   76698  2130706438    280      0      0      0      0      0      0   \n",
              "1      0   33058           0    NaN      0      0      0      0      0      0   \n",
              "2      0   41040         228    100      0      0      0      0      0      0   \n",
              "3      0      12          70     66      0     10      0      0      0    318   \n",
              "4      0   60874        1368    458      0      0      0      0      0      0   \n",
              "\n",
              "   ...   ee_002  ee_003  ee_004  ee_005  ee_006  ee_007  ee_008 ee_009 ef_000  \\\n",
              "0  ...  1240520  493384  721044  469792  339156  157956   73224      0      0   \n",
              "1  ...   421400  178064  293306  245416  133654   81140   97576   1500      0   \n",
              "2  ...   277378  159812  423992  409564  320746  158022   95128    514      0   \n",
              "3  ...      240      46      58      44      10       0       0      0      4   \n",
              "4  ...   622012  229790  405298  347188  286954  311560  433954   1218      0   \n",
              "\n",
              "  eg_000  \n",
              "0      0  \n",
              "1      0  \n",
              "2      0  \n",
              "3     32  \n",
              "4      0  \n",
              "\n",
              "[5 rows x 163 columns]"
            ]
          },
          "execution_count": 96,
          "metadata": {},
          "output_type": "execute_result"
        }
      ],
      "source": [
        "df.head()"
      ]
    },
    {
      "cell_type": "code",
      "execution_count": null,
      "id": "63b7bfde",
      "metadata": {
        "id": "63b7bfde"
      },
      "outputs": [],
      "source": [
        "df = df.astype(float)"
      ]
    },
    {
      "cell_type": "code",
      "execution_count": null,
      "id": "f4468970",
      "metadata": {
        "id": "f4468970"
      },
      "outputs": [],
      "source": [
        "df.fillna(df.mean(), inplace=True)"
      ]
    },
    {
      "cell_type": "code",
      "execution_count": null,
      "id": "3a56659d",
      "metadata": {
        "id": "3a56659d",
        "outputId": "db112391-915e-4814-f5d1-67308e57e106"
      },
      "outputs": [
        {
          "name": "stdout",
          "output_type": "stream",
          "text": [
            "Total number of null values in the DataFrame: 0\n"
          ]
        }
      ],
      "source": [
        "total_nulls = df.isnull().sum().sum()\n",
        "print(\"Total number of null values in the DataFrame:\", total_nulls)"
      ]
    },
    {
      "cell_type": "code",
      "execution_count": null,
      "id": "3d23f1b2",
      "metadata": {
        "id": "3d23f1b2",
        "outputId": "c55cb622-a74b-4392-d5cc-1876ca17340c"
      },
      "outputs": [
        {
          "data": {
            "image/png": "[encoded data removed]",
            "text/plain": [
              "<Figure size 800x500 with 1 Axes>"
            ]
          },
          "metadata": {},
          "output_type": "display_data"
        }
      ],
      "source": [
        "import matplotlib.pyplot as plt\n",
        "\n",
        "pass_fail_counts = df['class'].value_counts()\n",
        "\n",
        "# Plotting the bar plot\n",
        "plt.figure(figsize=(8, 5))\n",
        "pass_fail_counts.plot(kind='bar', color=['green', 'red'])\n",
        "plt.title('Distribution')\n",
        "plt.xlabel('pos and neg')\n",
        "plt.ylabel('Count')\n",
        "plt.xticks(ticks=range(len(pass_fail_counts)), labels=['Negative', 'Positive'], rotation=0)\n",
        "plt.grid(axis='y', linestyle='--', alpha=0.7)\n",
        "plt.show()"
      ]
    },
    {
      "cell_type": "code",
      "execution_count": null,
      "id": "acda5f3c",
      "metadata": {
        "id": "acda5f3c",
        "outputId": "c698a024-36eb-4158-d70e-1a599f950e46"
      },
      "outputs": [
        {
          "data": {
            "text/html": [
              "<div>\n",
              "<style scoped>\n",
              "    .dataframe tbody tr th:only-of-type {\n",
              "        vertical-align: middle;\n",
              "    }\n",
              "\n",
              "    .dataframe tbody tr th {\n",
              "        vertical-align: top;\n",
              "    }\n",
              "\n",
              "    .dataframe thead th {\n",
              "        text-align: right;\n",
              "    }\n",
              "</style>\n",
              "<table border=\"1\" class=\"dataframe\">\n",
              "  <thead>\n",
              "    <tr style=\"text-align: right;\">\n",
              "      <th></th>\n",
              "      <th>class</th>\n",
              "      <th>aa_000</th>\n",
              "      <th>ac_000</th>\n",
              "      <th>ad_000</th>\n",
              "      <th>ae_000</th>\n",
              "      <th>af_000</th>\n",
              "      <th>ag_000</th>\n",
              "      <th>ag_001</th>\n",
              "      <th>ag_002</th>\n",
              "      <th>ag_003</th>\n",
              "      <th>...</th>\n",
              "      <th>ee_002</th>\n",
              "      <th>ee_003</th>\n",
              "      <th>ee_004</th>\n",
              "      <th>ee_005</th>\n",
              "      <th>ee_006</th>\n",
              "      <th>ee_007</th>\n",
              "      <th>ee_008</th>\n",
              "      <th>ee_009</th>\n",
              "      <th>ef_000</th>\n",
              "      <th>eg_000</th>\n",
              "    </tr>\n",
              "  </thead>\n",
              "  <tbody>\n",
              "    <tr>\n",
              "      <th>0</th>\n",
              "      <td>0.0</td>\n",
              "      <td>76698.0</td>\n",
              "      <td>2.130706e+09</td>\n",
              "      <td>280.000000</td>\n",
              "      <td>0.0</td>\n",
              "      <td>0.0</td>\n",
              "      <td>0.0</td>\n",
              "      <td>0.0</td>\n",
              "      <td>0.0</td>\n",
              "      <td>0.0</td>\n",
              "      <td>...</td>\n",
              "      <td>1240520.0</td>\n",
              "      <td>493384.0</td>\n",
              "      <td>721044.0</td>\n",
              "      <td>469792.0</td>\n",
              "      <td>339156.0</td>\n",
              "      <td>157956.0</td>\n",
              "      <td>73224.0</td>\n",
              "      <td>0.0</td>\n",
              "      <td>0.0</td>\n",
              "      <td>0.0</td>\n",
              "    </tr>\n",
              "    <tr>\n",
              "      <th>1</th>\n",
              "      <td>0.0</td>\n",
              "      <td>33058.0</td>\n",
              "      <td>0.000000e+00</td>\n",
              "      <td>190620.639314</td>\n",
              "      <td>0.0</td>\n",
              "      <td>0.0</td>\n",
              "      <td>0.0</td>\n",
              "      <td>0.0</td>\n",
              "      <td>0.0</td>\n",
              "      <td>0.0</td>\n",
              "      <td>...</td>\n",
              "      <td>421400.0</td>\n",
              "      <td>178064.0</td>\n",
              "      <td>293306.0</td>\n",
              "      <td>245416.0</td>\n",
              "      <td>133654.0</td>\n",
              "      <td>81140.0</td>\n",
              "      <td>97576.0</td>\n",
              "      <td>1500.0</td>\n",
              "      <td>0.0</td>\n",
              "      <td>0.0</td>\n",
              "    </tr>\n",
              "    <tr>\n",
              "      <th>2</th>\n",
              "      <td>0.0</td>\n",
              "      <td>41040.0</td>\n",
              "      <td>2.280000e+02</td>\n",
              "      <td>100.000000</td>\n",
              "      <td>0.0</td>\n",
              "      <td>0.0</td>\n",
              "      <td>0.0</td>\n",
              "      <td>0.0</td>\n",
              "      <td>0.0</td>\n",
              "      <td>0.0</td>\n",
              "      <td>...</td>\n",
              "      <td>277378.0</td>\n",
              "      <td>159812.0</td>\n",
              "      <td>423992.0</td>\n",
              "      <td>409564.0</td>\n",
              "      <td>320746.0</td>\n",
              "      <td>158022.0</td>\n",
              "      <td>95128.0</td>\n",
              "      <td>514.0</td>\n",
              "      <td>0.0</td>\n",
              "      <td>0.0</td>\n",
              "    </tr>\n",
              "    <tr>\n",
              "      <th>3</th>\n",
              "      <td>0.0</td>\n",
              "      <td>12.0</td>\n",
              "      <td>7.000000e+01</td>\n",
              "      <td>66.000000</td>\n",
              "      <td>0.0</td>\n",
              "      <td>10.0</td>\n",
              "      <td>0.0</td>\n",
              "      <td>0.0</td>\n",
              "      <td>0.0</td>\n",
              "      <td>318.0</td>\n",
              "      <td>...</td>\n",
              "      <td>240.0</td>\n",
              "      <td>46.0</td>\n",
              "      <td>58.0</td>\n",
              "      <td>44.0</td>\n",
              "      <td>10.0</td>\n",
              "      <td>0.0</td>\n",
              "      <td>0.0</td>\n",
              "      <td>0.0</td>\n",
              "      <td>4.0</td>\n",
              "      <td>32.0</td>\n",
              "    </tr>\n",
              "    <tr>\n",
              "      <th>4</th>\n",
              "      <td>0.0</td>\n",
              "      <td>60874.0</td>\n",
              "      <td>1.368000e+03</td>\n",
              "      <td>458.000000</td>\n",
              "      <td>0.0</td>\n",
              "      <td>0.0</td>\n",
              "      <td>0.0</td>\n",
              "      <td>0.0</td>\n",
              "      <td>0.0</td>\n",
              "      <td>0.0</td>\n",
              "      <td>...</td>\n",
              "      <td>622012.0</td>\n",
              "      <td>229790.0</td>\n",
              "      <td>405298.0</td>\n",
              "      <td>347188.0</td>\n",
              "      <td>286954.0</td>\n",
              "      <td>311560.0</td>\n",
              "      <td>433954.0</td>\n",
              "      <td>1218.0</td>\n",
              "      <td>0.0</td>\n",
              "      <td>0.0</td>\n",
              "    </tr>\n",
              "  </tbody>\n",
              "</table>\n",
              "<p>5 rows × 163 columns</p>\n",
              "</div>"
            ],
            "text/plain": [
              "   class   aa_000        ac_000         ad_000  ae_000  af_000  ag_000  \\\n",
              "0    0.0  76698.0  2.130706e+09     280.000000     0.0     0.0     0.0   \n",
              "1    0.0  33058.0  0.000000e+00  190620.639314     0.0     0.0     0.0   \n",
              "2    0.0  41040.0  2.280000e+02     100.000000     0.0     0.0     0.0   \n",
              "3    0.0     12.0  7.000000e+01      66.000000     0.0    10.0     0.0   \n",
              "4    0.0  60874.0  1.368000e+03     458.000000     0.0     0.0     0.0   \n",
              "\n",
              "   ag_001  ag_002  ag_003  ...     ee_002    ee_003    ee_004    ee_005  \\\n",
              "0     0.0     0.0     0.0  ...  1240520.0  493384.0  721044.0  469792.0   \n",
              "1     0.0     0.0     0.0  ...   421400.0  178064.0  293306.0  245416.0   \n",
              "2     0.0     0.0     0.0  ...   277378.0  159812.0  423992.0  409564.0   \n",
              "3     0.0     0.0   318.0  ...      240.0      46.0      58.0      44.0   \n",
              "4     0.0     0.0     0.0  ...   622012.0  229790.0  405298.0  347188.0   \n",
              "\n",
              "     ee_006    ee_007    ee_008  ee_009  ef_000  eg_000  \n",
              "0  339156.0  157956.0   73224.0     0.0     0.0     0.0  \n",
              "1  133654.0   81140.0   97576.0  1500.0     0.0     0.0  \n",
              "2  320746.0  158022.0   95128.0   514.0     0.0     0.0  \n",
              "3      10.0       0.0       0.0     0.0     4.0    32.0  \n",
              "4  286954.0  311560.0  433954.0  1218.0     0.0     0.0  \n",
              "\n",
              "[5 rows x 163 columns]"
            ]
          },
          "execution_count": 101,
          "metadata": {},
          "output_type": "execute_result"
        }
      ],
      "source": [
        "df.head()"
      ]
    },
    {
      "cell_type": "code",
      "execution_count": null,
      "id": "76424ed3",
      "metadata": {
        "id": "76424ed3"
      },
      "outputs": [],
      "source": [
        "from sklearn.model_selection import train_test_split\n",
        "from sklearn.preprocessing import StandardScaler\n",
        "from sklearn.svm import SVC\n",
        "from sklearn.tree import DecisionTreeClassifier\n",
        "from sklearn.neighbors import KNeighborsClassifier\n",
        "from sklearn.metrics import classification_report, confusion_matrix, accuracy_score\n",
        "from tensorflow.keras.models import Sequential\n",
        "from tensorflow.keras.layers import Dense, LSTM, Conv1D, Flatten, Dropout\n",
        "from tensorflow.keras.utils import to_categorical\n",
        "from sklearn.svm import SVC\n",
        "from tensorflow.keras import layers, models"
      ]
    },
    {
      "cell_type": "code",
      "execution_count": null,
      "id": "18bc20a4",
      "metadata": {
        "id": "18bc20a4"
      },
      "outputs": [],
      "source": [
        "X = df.drop(columns=['class'])\n",
        "y = df['class']\n",
        "\n",
        "# Split the data into training and testing sets\n",
        "X_train, X_test, y_train, y_test = train_test_split(X, y, test_size=0.2, random_state=42)\n",
        "\n",
        "# Scale features for SVM and KNN\n",
        "scaler = StandardScaler()\n",
        "X_train_scaled = scaler.fit_transform(X_train)\n",
        "X_test_scaled = scaler.transform(X_test)"
      ]
    },
    {
      "cell_type": "code",
      "execution_count": null,
      "id": "147c4ad8",
      "metadata": {
        "id": "147c4ad8",
        "outputId": "cae8f86f-0479-4d93-ab35-3ae7bece0c84"
      },
      "outputs": [
        {
          "name": "stdout",
          "output_type": "stream",
          "text": [
            "Training data shape: (48788, 162), Training labels shape: (48788,)\n",
            "Testing data shape: (12000, 162), Testing labels shape: (12000,)\n",
            "Scaled Training data shape: (48788, 162)\n",
            "Scaled Testing data shape: (12000, 162)\n"
          ]
        }
      ],
      "source": [
        "import pandas as pd\n",
        "from sklearn.model_selection import train_test_split\n",
        "from sklearn.preprocessing import StandardScaler\n",
        "\n",
        "# Assuming df is your DataFrame\n",
        "X = df.drop(columns=['class'])  # Features\n",
        "y = df['class']                  # Target variable\n",
        "\n",
        "y = y.astype(int)\n",
        "\n",
        "# Step 1: Initial split to create a temporary test set\n",
        "X_train, X_temp, y_train, y_temp = train_test_split(X, y, test_size=0.2, random_state=42)\n",
        "\n",
        "# Step 2: Identify instances of class 1 in the entire dataset\n",
        "class_1_indices = y[y == 1].index\n",
        "class_1_count = len(class_1_indices)\n",
        "\n",
        "# Step 3: Select all class 1 instances for the test set\n",
        "X_test = X.loc[class_1_indices]\n",
        "y_test = y.loc[class_1_indices]\n",
        "\n",
        "# Step 4: Add instances of class 0 to the test set\n",
        "# Calculate how many additional class 0 instances are needed\n",
        "required_class_0 = len(X_temp) - class_1_count\n",
        "\n",
        "# Filter class 0 instances from the temporary test set\n",
        "class_0_indices = y_temp[y_temp == 0].index\n",
        "X_class_0 = X_temp.loc[class_0_indices]\n",
        "\n",
        "# Select the required number of class 0 instances\n",
        "X_class_0_test = X_class_0.sample(n=required_class_0, random_state=42)\n",
        "\n",
        "# Combine class 1 and selected class 0 instances for the test set\n",
        "X_test = pd.concat([X_test, X_class_0_test])\n",
        "y_test = pd.concat([y_test, y_temp.loc[X_class_0_test.index]])\n",
        "\n",
        "# Step 5: Form the final training set\n",
        "remaining_class_0_indices = y_temp[y_temp == 0].index.difference(X_class_0_test.index)\n",
        "X_train = pd.concat([X_train, X_class_0.loc[remaining_class_0_indices]])\n",
        "y_train = pd.concat([y_train, y_temp.loc[remaining_class_0_indices]])\n",
        "\n",
        "# Print the shapes of the resulting datasets\n",
        "print(f\"Training data shape: {X_train.shape}, Training labels shape: {y_train.shape}\")\n",
        "print(f\"Testing data shape: {X_test.shape}, Testing labels shape: {y_test.shape}\")\n",
        "\n",
        "# Scale the features\n",
        "scaler = StandardScaler()\n",
        "X_train_scaled = scaler.fit_transform(X_train)\n",
        "X_test_scaled = scaler.transform(X_test)\n",
        "\n",
        "# Optional: Print the scaled shapes\n",
        "print(f\"Scaled Training data shape: {X_train_scaled.shape}\")\n",
        "print(f\"Scaled Testing data shape: {X_test_scaled.shape}\")\n"
      ]
    },
    {
      "cell_type": "code",
      "execution_count": null,
      "id": "b41b74db",
      "metadata": {
        "id": "b41b74db",
        "outputId": "80aee599-8d2f-4497-9dcc-75c66bb82a93"
      },
      "outputs": [
        {
          "name": "stdout",
          "output_type": "stream",
          "text": [
            "Label counts in y_train:\n",
            " class\n",
            "0    11000\n",
            "1     1000\n",
            "Name: count, dtype: int64\n"
          ]
        }
      ],
      "source": [
        "# Check the count of labels in y_train\n",
        "label_counts = y_test.value_counts()\n",
        "print(\"Label counts in y_train:\\n\", label_counts)"
      ]
    },
    {
      "cell_type": "code",
      "execution_count": null,
      "id": "b9d64e01",
      "metadata": {
        "id": "b9d64e01",
        "outputId": "f0700de8-be6a-4b2d-ea0e-48ef5bc2cc1d"
      },
      "outputs": [
        {
          "data": {
            "text/plain": [
              "(48788,)"
            ]
          },
          "execution_count": 135,
          "metadata": {},
          "output_type": "execute_result"
        }
      ],
      "source": [
        "y_train.shape"
      ]
    },
    {
      "cell_type": "markdown",
      "id": "cb1c51e9",
      "metadata": {
        "id": "cb1c51e9"
      },
      "source": [
        " Support Vector Machine (SVM)"
      ]
    },
    {
      "cell_type": "code",
      "execution_count": null,
      "id": "885eaf04",
      "metadata": {
        "id": "885eaf04",
        "outputId": "67f24790-5c63-4aa6-da0c-165643a0919c"
      },
      "outputs": [
        {
          "name": "stdout",
          "output_type": "stream",
          "text": [
            "SVM Classification Report:\n",
            "               precision    recall  f1-score   support\n",
            "\n",
            "           0       0.97      1.00      0.98     11000\n",
            "           1       0.96      0.69      0.80      1000\n",
            "\n",
            "    accuracy                           0.97     12000\n",
            "   macro avg       0.96      0.84      0.89     12000\n",
            "weighted avg       0.97      0.97      0.97     12000\n",
            "\n",
            "SVM Model Accuracy: 97.13%\n"
          ]
        }
      ],
      "source": [
        "from sklearn.svm import SVC\n",
        "from sklearn.metrics import classification_report, accuracy_score\n",
        "\n",
        "svm_model = SVC(kernel='linear')  # You can try other kernels as well\n",
        "svm_model.fit(X_train_scaled, y_train)\n",
        "\n",
        "# Make predictions using the balanced test set\n",
        "y_pred_svm = svm_model.predict(X_test_scaled)\n",
        "\n",
        "# Print classification report\n",
        "print(\"SVM Classification Report:\\n\", classification_report(y_test, y_pred_svm))\n",
        "\n",
        "# Calculate and print accuracy\n",
        "accuracy = accuracy_score(y_test, y_pred_svm)\n",
        "print(f\"SVM Model Accuracy: {(accuracy * 100):.2f}%\")"
      ]
    },
    {
      "cell_type": "code",
      "execution_count": null,
      "id": "8ea3dc2b",
      "metadata": {
        "id": "8ea3dc2b",
        "outputId": "d621cb1b-2d28-4c28-a83b-ebacaef08658"
      },
      "outputs": [
        {
          "data": {
            "image/png": "[encoded data removed]",
            "text/plain": [
              "<Figure size 640x480 with 2 Axes>"
            ]
          },
          "metadata": {},
          "output_type": "display_data"
        }
      ],
      "source": [
        "import matplotlib.pyplot as plt\n",
        "from sklearn.metrics import confusion_matrix, ConfusionMatrixDisplay\n",
        "\n",
        "cm = confusion_matrix(y_test, y_pred_svm)\n",
        "\n",
        "# Create a confusion matrix display\n",
        "disp = ConfusionMatrixDisplay(confusion_matrix=cm, display_labels=[0, 1])\n",
        "\n",
        "# Plot the confusion matrix\n",
        "disp.plot(cmap=plt.cm.Blues)\n",
        "plt.title('Confusion Matrix')\n",
        "plt.show()"
      ]
    },
    {
      "cell_type": "markdown",
      "id": "cfbdff01",
      "metadata": {
        "id": "cfbdff01"
      },
      "source": [
        "Decision Tree Classifier (DTC)"
      ]
    },
    {
      "cell_type": "code",
      "execution_count": null,
      "id": "f8a492e1",
      "metadata": {
        "id": "f8a492e1",
        "outputId": "27021a11-987b-4dec-d733-e04fdb1cf977"
      },
      "outputs": [
        {
          "name": "stdout",
          "output_type": "stream",
          "text": [
            "DTC Classification Report:\n",
            "               precision    recall  f1-score   support\n",
            "\n",
            "           0       0.99      0.99      0.99     11000\n",
            "           1       0.93      0.94      0.93      1000\n",
            "\n",
            "    accuracy                           0.99     12000\n",
            "   macro avg       0.96      0.97      0.96     12000\n",
            "weighted avg       0.99      0.99      0.99     12000\n",
            "\n",
            "DTC Model Accuracy: 98.90%\n"
          ]
        }
      ],
      "source": [
        "# Initialize and fit the DTC model\n",
        "dtc_model = DecisionTreeClassifier(random_state=42)\n",
        "dtc_model.fit(X_train_scaled, y_train)\n",
        "\n",
        "# Make predictions\n",
        "y_pred_dtc = dtc_model.predict(X_test_scaled)\n",
        "\n",
        "# Print classification report\n",
        "print(\"DTC Classification Report:\\n\", classification_report(y_test, y_pred_dtc))\n",
        "\n",
        "# Calculate and print accuracy\n",
        "accuracy = accuracy_score(y_test, y_pred_dtc)\n",
        "print(f\"DTC Model Accuracy: {(accuracy*100):.2f}%\")"
      ]
    },
    {
      "cell_type": "code",
      "execution_count": null,
      "id": "67edd845",
      "metadata": {
        "id": "67edd845",
        "outputId": "1c915f5a-1465-42a7-c857-a3dbeb045a9d"
      },
      "outputs": [
        {
          "data": {
            "image/png": "[encoded data removed]",
            "text/plain": [
              "<Figure size 640x480 with 2 Axes>"
            ]
          },
          "metadata": {},
          "output_type": "display_data"
        }
      ],
      "source": [
        "cm = confusion_matrix(y_test, y_pred_dtc)\n",
        "\n",
        "# Create a confusion matrix display\n",
        "disp = ConfusionMatrixDisplay(confusion_matrix=cm, display_labels=[0, 1])\n",
        "\n",
        "# Plot the confusion matrix\n",
        "disp.plot(cmap=plt.cm.Blues)\n",
        "plt.title('Confusion Matrix')\n",
        "plt.show()"
      ]
    },
    {
      "cell_type": "markdown",
      "id": "4346e8e4",
      "metadata": {
        "id": "4346e8e4"
      },
      "source": [
        "K-Nearest Neighbors (KNN)"
      ]
    },
    {
      "cell_type": "code",
      "execution_count": null,
      "id": "9af99f39",
      "metadata": {
        "id": "9af99f39",
        "outputId": "4fb22eb4-ecba-4dc2-944d-a4467a707364"
      },
      "outputs": [
        {
          "name": "stdout",
          "output_type": "stream",
          "text": [
            "KNN Classification Report:\n",
            "               precision    recall  f1-score   support\n",
            "\n",
            "           0       0.97      1.00      0.98     11000\n",
            "           1       0.96      0.62      0.75      1000\n",
            "\n",
            "    accuracy                           0.97     12000\n",
            "   macro avg       0.96      0.81      0.87     12000\n",
            "weighted avg       0.97      0.97      0.96     12000\n",
            "\n",
            "KNN Model Accuracy: 96.60%\n"
          ]
        }
      ],
      "source": [
        "# Initialize and fit the KNN model\n",
        "knn_model = KNeighborsClassifier(n_neighbors=5)  # You can tune n_neighbors\n",
        "knn_model.fit(X_train_scaled, y_train)\n",
        "\n",
        "# Make predictions\n",
        "y_pred_knn = knn_model.predict(X_test_scaled)\n",
        "\n",
        "# Print classification report\n",
        "print(\"KNN Classification Report:\\n\", classification_report(y_test, y_pred_knn))\n",
        "\n",
        "# Calculate and print accuracy\n",
        "accuracy = accuracy_score(y_test, y_pred_knn)\n",
        "print(f\"KNN Model Accuracy: {(accuracy*100):.2f}%\")"
      ]
    },
    {
      "cell_type": "code",
      "execution_count": null,
      "id": "1294f8f3",
      "metadata": {
        "id": "1294f8f3",
        "outputId": "5d52611b-bfa2-4bfe-a2e3-ed4d3b7a82f7"
      },
      "outputs": [
        {
          "data": {
            "image/png": "[encoded data removed]",
            "text/plain": [
              "<Figure size 640x480 with 2 Axes>"
            ]
          },
          "metadata": {},
          "output_type": "display_data"
        }
      ],
      "source": [
        "cm = confusion_matrix(y_test, y_pred_knn)\n",
        "\n",
        "# Create a confusion matrix display\n",
        "disp = ConfusionMatrixDisplay(confusion_matrix=cm, display_labels=[0, 1])\n",
        "\n",
        "# Plot the confusion matrix\n",
        "disp.plot(cmap=plt.cm.Blues)\n",
        "plt.title('Confusion Matrix')\n",
        "plt.show()"
      ]
    },
    {
      "cell_type": "markdown",
      "id": "260c2d7d",
      "metadata": {
        "id": "260c2d7d"
      },
      "source": [
        "Convolutional Neural Network (CNN)"
      ]
    },
    {
      "cell_type": "code",
      "execution_count": null,
      "id": "a7a38128",
      "metadata": {
        "id": "a7a38128",
        "outputId": "db98cbba-5d46-4e98-84cc-dc485512b16d"
      },
      "outputs": [
        {
          "name": "stderr",
          "output_type": "stream",
          "text": [
            "c:\\Users\\masha\\AppData\\Local\\Programs\\Python\\Python311\\Lib\\site-packages\\keras\\src\\layers\\convolutional\\base_conv.py:107: UserWarning: Do not pass an `input_shape`/`input_dim` argument to a layer. When using Sequential models, prefer using an `Input(shape)` object as the first layer in the model instead.\n",
            "  super().__init__(activity_regularizer=activity_regularizer, **kwargs)\n"
          ]
        },
        {
          "name": "stdout",
          "output_type": "stream",
          "text": [
            "Epoch 1/10\n",
            "\u001b[1m1220/1220\u001b[0m \u001b[32m━━━━━━━━━━━━━━━━━━━━\u001b[0m\u001b[37m\u001b[0m \u001b[1m15s\u001b[0m 10ms/step - accuracy: 0.9634 - loss: 34132.1953 - val_accuracy: 0.9803 - val_loss: 14.8598\n",
            "Epoch 2/10\n",
            "\u001b[1m1220/1220\u001b[0m \u001b[32m━━━━━━━━━━━━━━━━━━━━\u001b[0m\u001b[37m\u001b[0m \u001b[1m11s\u001b[0m 9ms/step - accuracy: 0.9816 - loss: 17.9709 - val_accuracy: 0.9771 - val_loss: 90.4708\n",
            "Epoch 3/10\n",
            "\u001b[1m1220/1220\u001b[0m \u001b[32m━━━━━━━━━━━━━━━━━━━━\u001b[0m\u001b[37m\u001b[0m \u001b[1m9s\u001b[0m 7ms/step - accuracy: 0.9763 - loss: 2745.0891 - val_accuracy: 0.9850 - val_loss: 1599.6486\n",
            "Epoch 4/10\n",
            "\u001b[1m1220/1220\u001b[0m \u001b[32m━━━━━━━━━━━━━━━━━━━━\u001b[0m\u001b[37m\u001b[0m \u001b[1m10s\u001b[0m 7ms/step - accuracy: 0.9833 - loss: 276.5945 - val_accuracy: 0.9850 - val_loss: 0.0845\n",
            "Epoch 5/10\n",
            "\u001b[1m1220/1220\u001b[0m \u001b[32m━━━━━━━━━━━━━━━━━━━━\u001b[0m\u001b[37m\u001b[0m \u001b[1m9s\u001b[0m 7ms/step - accuracy: 0.9849 - loss: 0.0820 - val_accuracy: 0.9850 - val_loss: 0.0774\n",
            "Epoch 6/10\n",
            "\u001b[1m1220/1220\u001b[0m \u001b[32m━━━━━━━━━━━━━━━━━━━━\u001b[0m\u001b[37m\u001b[0m \u001b[1m12s\u001b[0m 9ms/step - accuracy: 0.9830 - loss: 0.0837 - val_accuracy: 0.9850 - val_loss: 0.0757\n",
            "Epoch 7/10\n",
            "\u001b[1m1220/1220\u001b[0m \u001b[32m━━━━━━━━━━━━━━━━━━━━\u001b[0m\u001b[37m\u001b[0m \u001b[1m12s\u001b[0m 9ms/step - accuracy: 0.9838 - loss: 0.0800 - val_accuracy: 0.9850 - val_loss: 0.0752\n",
            "Epoch 8/10\n",
            "\u001b[1m1220/1220\u001b[0m \u001b[32m━━━━━━━━━━━━━━━━━━━━\u001b[0m\u001b[37m\u001b[0m \u001b[1m9s\u001b[0m 8ms/step - accuracy: 0.9839 - loss: 0.0794 - val_accuracy: 0.9850 - val_loss: 0.0749\n",
            "Epoch 9/10\n",
            "\u001b[1m1220/1220\u001b[0m \u001b[32m━━━━━━━━━━━━━━━━━━━━\u001b[0m\u001b[37m\u001b[0m \u001b[1m9s\u001b[0m 7ms/step - accuracy: 0.9829 - loss: 0.0863 - val_accuracy: 0.9850 - val_loss: 0.0776\n",
            "Epoch 10/10\n",
            "\u001b[1m1220/1220\u001b[0m \u001b[32m━━━━━━━━━━━━━━━━━━━━\u001b[0m\u001b[37m\u001b[0m \u001b[1m9s\u001b[0m 7ms/step - accuracy: 0.9834 - loss: 0.0838 - val_accuracy: 0.9850 - val_loss: 0.0773\n",
            "\u001b[1m375/375\u001b[0m \u001b[32m━━━━━━━━━━━━━━━━━━━━\u001b[0m\u001b[37m\u001b[0m \u001b[1m1s\u001b[0m 3ms/step - accuracy: 0.7114 - loss: 1.2696\n",
            "Test Loss: 0.36706897616386414, Test Accuracy: 0.9166666865348816\n"
          ]
        }
      ],
      "source": [
        "# Define the CNN model\n",
        "model = models.Sequential([\n",
        "    layers.Conv1D(32, 3, activation='relu', input_shape=(X_train_scaled.shape[1], 1)),\n",
        "    layers.MaxPooling1D(2),\n",
        "    layers.Conv1D(64, 3, activation='relu'),\n",
        "    layers.MaxPooling1D(2),\n",
        "    layers.Flatten(),\n",
        "    layers.Dense(64, activation='relu'),\n",
        "    layers.Dense(1, activation='sigmoid')\n",
        "])\n",
        "\n",
        "# Compile the model\n",
        "model.compile(optimizer='adam', loss='binary_crossentropy', metrics=['accuracy'])\n",
        "\n",
        "# Train the model\n",
        "model.fit(X_train, y_train, epochs=10, batch_size=32, validation_split=0.2)  # Use validation_split instead of validation_data\n",
        "\n",
        "# Evaluate the model on the test set\n",
        "test_loss, test_accuracy = model.evaluate(X_test_scaled, y_test)\n",
        "print(f'Test Loss: {test_loss}, Test Accuracy: {test_accuracy}')"
      ]
    },
    {
      "cell_type": "code",
      "execution_count": null,
      "id": "b3a5d3ce",
      "metadata": {
        "id": "b3a5d3ce",
        "outputId": "4d81038e-6ff6-4458-a200-c9e2624607a4"
      },
      "outputs": [
        {
          "name": "stdout",
          "output_type": "stream",
          "text": [
            "\u001b[1m375/375\u001b[0m \u001b[32m━━━━━━━━━━━━━━━━━━━━\u001b[0m\u001b[37m\u001b[0m \u001b[1m1s\u001b[0m 3ms/step\n",
            "Accuracy: 0.92\n"
          ]
        }
      ],
      "source": [
        "# Evaluate the Model\n",
        "predictions = model.predict(X_test_scaled)\n",
        "predicted_classes = (predictions > 0.5).astype(int)\n",
        "\n",
        "# Calculate accuracy\n",
        "accuracy = accuracy_score(y_test, predicted_classes)\n",
        "print(f'Accuracy: {accuracy:.2f}')"
      ]
    },
    {
      "cell_type": "code",
      "execution_count": null,
      "id": "2438f30e",
      "metadata": {
        "id": "2438f30e",
        "outputId": "3ae4e311-760f-44fe-8481-e166227a86e0"
      },
      "outputs": [
        {
          "data": {
            "image/png": "[encoded data removed]",
            "text/plain": [
              "<Figure size 640x480 with 2 Axes>"
            ]
          },
          "metadata": {},
          "output_type": "display_data"
        }
      ],
      "source": [
        "cm = confusion_matrix(y_test, predicted_classes)\n",
        "\n",
        "# Create a confusion matrix display\n",
        "disp = ConfusionMatrixDisplay(confusion_matrix=cm, display_labels=[0, 1])\n",
        "\n",
        "# Plot the confusion matrix\n",
        "disp.plot(cmap=plt.cm.Blues)\n",
        "plt.title('Confusion Matrix')\n",
        "plt.show()"
      ]
    },
    {
      "cell_type": "markdown",
      "id": "36e84579",
      "metadata": {
        "id": "36e84579"
      },
      "source": [
        "Long Short-Term Memory (LSTM)"
      ]
    },
    {
      "cell_type": "code",
      "execution_count": null,
      "id": "55a9dfeb",
      "metadata": {
        "id": "55a9dfeb",
        "outputId": "3077122f-ed26-418e-da5b-89526953c163"
      },
      "outputs": [
        {
          "name": "stderr",
          "output_type": "stream",
          "text": [
            "c:\\Users\\masha\\AppData\\Local\\Programs\\Python\\Python311\\Lib\\site-packages\\keras\\src\\layers\\rnn\\rnn.py:204: UserWarning: Do not pass an `input_shape`/`input_dim` argument to a layer. When using Sequential models, prefer using an `Input(shape)` object as the first layer in the model instead.\n",
            "  super().__init__(**kwargs)\n"
          ]
        },
        {
          "name": "stdout",
          "output_type": "stream",
          "text": [
            "Epoch 1/10\n",
            "\u001b[1m2950/2950\u001b[0m \u001b[32m━━━━━━━━━━━━━━━━━━━━\u001b[0m\u001b[37m\u001b[0m \u001b[1m23s\u001b[0m 6ms/step - accuracy: 0.9780 - loss: 0.0723\n",
            "Epoch 2/10\n",
            "\u001b[1m2950/2950\u001b[0m \u001b[32m━━━━━━━━━━━━━━━━━━━━\u001b[0m\u001b[37m\u001b[0m \u001b[1m16s\u001b[0m 5ms/step - accuracy: 0.9916 - loss: 0.0446\n",
            "Epoch 3/10\n",
            "\u001b[1m2950/2950\u001b[0m \u001b[32m━━━━━━━━━━━━━━━━━━━━\u001b[0m\u001b[37m\u001b[0m \u001b[1m16s\u001b[0m 6ms/step - accuracy: 0.9915 - loss: 0.0447\n",
            "Epoch 4/10\n",
            "\u001b[1m2950/2950\u001b[0m \u001b[32m━━━━━━━━━━━━━━━━━━━━\u001b[0m\u001b[37m\u001b[0m \u001b[1m16s\u001b[0m 5ms/step - accuracy: 0.9913 - loss: 0.0458\n",
            "Epoch 5/10\n",
            "\u001b[1m2950/2950\u001b[0m \u001b[32m━━━━━━━━━━━━━━━━━━━━\u001b[0m\u001b[37m\u001b[0m \u001b[1m16s\u001b[0m 5ms/step - accuracy: 0.9913 - loss: 0.0459\n",
            "Epoch 6/10\n",
            "\u001b[1m2950/2950\u001b[0m \u001b[32m━━━━━━━━━━━━━━━━━━━━\u001b[0m\u001b[37m\u001b[0m \u001b[1m25s\u001b[0m 7ms/step - accuracy: 0.9915 - loss: 0.0448\n",
            "Epoch 7/10\n",
            "\u001b[1m2950/2950\u001b[0m \u001b[32m━━━━━━━━━━━━━━━━━━━━\u001b[0m\u001b[37m\u001b[0m \u001b[1m21s\u001b[0m 7ms/step - accuracy: 0.9915 - loss: 0.0441\n",
            "Epoch 8/10\n",
            "\u001b[1m2950/2950\u001b[0m \u001b[32m━━━━━━━━━━━━━━━━━━━━\u001b[0m\u001b[37m\u001b[0m \u001b[1m17s\u001b[0m 6ms/step - accuracy: 0.9916 - loss: 0.0437\n",
            "Epoch 9/10\n",
            "\u001b[1m2950/2950\u001b[0m \u001b[32m━━━━━━━━━━━━━━━━━━━━\u001b[0m\u001b[37m\u001b[0m \u001b[1m15s\u001b[0m 5ms/step - accuracy: 0.9915 - loss: 0.0436\n",
            "Epoch 10/10\n",
            "\u001b[1m2950/2950\u001b[0m \u001b[32m━━━━━━━━━━━━━━━━━━━━\u001b[0m\u001b[37m\u001b[0m \u001b[1m20s\u001b[0m 5ms/step - accuracy: 0.9913 - loss: 0.0450\n"
          ]
        }
      ],
      "source": [
        "from sklearn.preprocessing import MinMaxScaler\n",
        "\n",
        "y = y.astype(int)\n",
        "# Identify class counts\n",
        "class_counts = y.value_counts()\n",
        "class_0_count = class_counts.get(0, 0)\n",
        "class_1_count = class_counts.get(1, 0)\n",
        "\n",
        "# Calculate how many more samples of class 1 are needed\n",
        "num_samples_to_add = class_0_count - class_1_count\n",
        "\n",
        "# Oversampling Class 1\n",
        "if num_samples_to_add > 0:\n",
        "    class_1_indices = np.where(y.values == 1)[0]  # Ensure y is treated as an array\n",
        "    sampled_indices = np.random.choice(class_1_indices, num_samples_to_add, replace=True)\n",
        "\n",
        "    # Concatenate to create a balanced dataset\n",
        "    X_balanced = pd.concat([X, X.iloc[sampled_indices]], ignore_index=True)\n",
        "    y_balanced = np.concatenate([y, y.iloc[sampled_indices]])\n",
        "\n",
        "    # Scale features\n",
        "    scaler = MinMaxScaler(feature_range=(0, 1))\n",
        "    X_scaled = scaler.fit_transform(X_balanced)\n",
        "\n",
        "    # Create sequences for LSTM\n",
        "    def create_dataset(data, target, time_step=1):\n",
        "        X, y = [], []\n",
        "        for i in range(len(data) - time_step):\n",
        "            X.append(data[i:(i + time_step)])\n",
        "            y.append(target[i + time_step])\n",
        "        return np.array(X), np.array(y)\n",
        "\n",
        "    # Define the time step for LSTM\n",
        "    time_step = 10\n",
        "    X_lstm, y_lstm = create_dataset(X_scaled, y_balanced, time_step)\n",
        "\n",
        "    # Reshape X to be [samples, time steps, features]\n",
        "    X_lstm = X_lstm.reshape(X_lstm.shape[0], X_lstm.shape[1], X_lstm.shape[2])\n",
        "\n",
        "    # Split the dataset into training and testing sets\n",
        "    X_train, X_test, y_train, y_test = train_test_split(X_lstm, y_lstm, test_size=0.2, random_state=42, stratify=y_lstm)\n",
        "\n",
        "    # Reshape y_train to be (samples, 1)\n",
        "    y_train = y_train.reshape(-1, 1)  # Ensure y_train is 2D for binary crossentropy\n",
        "    y_test = y_test.reshape(-1, 1)    # Ensure y_test is 2D for binary crossentropy\n",
        "\n",
        "    # Build and train the LSTM model\n",
        "    model = Sequential()\n",
        "    model.add(LSTM(50, return_sequences=False, input_shape=(time_step, X_lstm.shape[2])))\n",
        "    model.add(Dropout(0.5))\n",
        "    model.add(Dense(1, activation='sigmoid'))  # Use 'sigmoid' for binary classification\n",
        "\n",
        "    # Compile the model\n",
        "    model.compile(optimizer='adam', loss='binary_crossentropy', metrics=['accuracy'])\n",
        "\n",
        "    # Train the model\n",
        "    model.fit(X_train, y_train, epochs=10, batch_size=32)\n",
        "else:\n",
        "    print(\"Class distribution is already balanced.\")\n"
      ]
    },
    {
      "cell_type": "code",
      "execution_count": null,
      "id": "4ad3449e",
      "metadata": {
        "id": "4ad3449e",
        "outputId": "14a0a7ff-71d3-4330-c612-f2f98a74f2d1"
      },
      "outputs": [
        {
          "name": "stdout",
          "output_type": "stream",
          "text": [
            "\u001b[1m738/738\u001b[0m \u001b[32m━━━━━━━━━━━━━━━━━━━━\u001b[0m\u001b[37m\u001b[0m \u001b[1m3s\u001b[0m 3ms/step\n",
            "Accuracy: 0.99\n"
          ]
        }
      ],
      "source": [
        "predictions = model.predict(X_test)\n",
        "predicted_classes = (predictions> 0.5).astype(int).flatten()\n",
        "y_test_flat = y_test.flatten()\n",
        "accuracy = accuracy_score(y_test_flat, predicted_classes)\n",
        "print(f'Accuracy: {accuracy:.2f}')\n"
      ]
    },
    {
      "cell_type": "code",
      "execution_count": null,
      "id": "0ae8aaf1",
      "metadata": {
        "id": "0ae8aaf1",
        "outputId": "8925652f-8bbe-469f-cbb9-cb308b8936f0"
      },
      "outputs": [
        {
          "data": {
            "image/png": "[encoded data removed]",
            "text/plain": [
              "<Figure size 640x480 with 2 Axes>"
            ]
          },
          "metadata": {},
          "output_type": "display_data"
        }
      ],
      "source": [
        "cm = confusion_matrix(y_test_flat, predicted_classes)\n",
        "\n",
        "# Create a confusion matrix display\n",
        "disp = ConfusionMatrixDisplay(confusion_matrix=cm, display_labels=[0, 1])\n",
        "\n",
        "# Plot the confusion matrix\n",
        "disp.plot(cmap=plt.cm.Blues)\n",
        "plt.title('Confusion Matrix')\n",
        "plt.show()"
      ]
    },
    {
      "cell_type": "markdown",
      "id": "50a26902",
      "metadata": {
        "id": "50a26902"
      },
      "source": [
        "--------------------------------------------------------------------------------------------------------------------------"
      ]
    }
  ],
  "metadata": {
    "kernelspec": {
      "display_name": "Python 3 (ipykernel)",
      "language": "python",
      "name": "python3"
    },
    "language_info": {
      "codemirror_mode": {
        "name": "ipython",
        "version": 3
      },
      "file_extension": ".py",
      "mimetype": "text/x-python",
      "name": "python",
      "nbconvert_exporter": "python",
      "pygments_lexer": "ipython3",
      "version": "3.9.13"
    },
    "colab": {
      "provenance": []
    }
  },
  "nbformat": 4,
  "nbformat_minor": 5
}